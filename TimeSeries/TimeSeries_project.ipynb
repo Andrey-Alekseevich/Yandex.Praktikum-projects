{
 "cells": [
  {
   "cell_type": "markdown",
   "metadata": {},
   "source": [
    "# Прогнозирование заказов такси.\n",
    "\n",
    "Компания-таксопарк собрала исторические данные о заказах такси в аэропортах. Для лучшего прогнозирования спроса на перевозки, необходимо предсказать количество заказов такси на следующий час при помощи построения модели машинного обучения.\n",
    "\n",
    "**Значение метрики RMSE на тестовой выборке должно быть не больше 48.**"
   ]
  },
  {
   "cell_type": "markdown",
   "metadata": {},
   "source": [
    "## 1. Загрузка данных. \n",
    "\n",
    "Откроем файл с данными, проверим таблицу на наличие критичных неточностей (пропусков, дублей и пр.). Сразу посмотрим на распределение целевого признака, чтобы убедиться в его нормальности, или наоборот - выявить аномалии в данных."
   ]
  },
  {
   "cell_type": "code",
   "execution_count": 1,
   "metadata": {},
   "outputs": [
    {
     "name": "stdout",
     "output_type": "stream",
     "text": [
      "<class 'pandas.core.frame.DataFrame'>\n",
      "RangeIndex: 26496 entries, 0 to 26495\n",
      "Data columns (total 2 columns):\n",
      " #   Column      Non-Null Count  Dtype \n",
      "---  ------      --------------  ----- \n",
      " 0   datetime    26496 non-null  object\n",
      " 1   num_orders  26496 non-null  int64 \n",
      "dtypes: int64(1), object(1)\n",
      "memory usage: 414.1+ KB\n",
      "Информация о Датасете: None\n",
      "Количество дублей: 0\n",
      "---------------------------------------------------\n",
      "Общий вид таблицы:\n"
     ]
    },
    {
     "data": {
      "text/html": [
       "<div>\n",
       "<style scoped>\n",
       "    .dataframe tbody tr th:only-of-type {\n",
       "        vertical-align: middle;\n",
       "    }\n",
       "\n",
       "    .dataframe tbody tr th {\n",
       "        vertical-align: top;\n",
       "    }\n",
       "\n",
       "    .dataframe thead th {\n",
       "        text-align: right;\n",
       "    }\n",
       "</style>\n",
       "<table border=\"1\" class=\"dataframe\">\n",
       "  <thead>\n",
       "    <tr style=\"text-align: right;\">\n",
       "      <th></th>\n",
       "      <th>datetime</th>\n",
       "      <th>num_orders</th>\n",
       "    </tr>\n",
       "  </thead>\n",
       "  <tbody>\n",
       "    <tr>\n",
       "      <th>0</th>\n",
       "      <td>2018-03-01 00:00:00</td>\n",
       "      <td>9</td>\n",
       "    </tr>\n",
       "    <tr>\n",
       "      <th>1</th>\n",
       "      <td>2018-03-01 00:10:00</td>\n",
       "      <td>14</td>\n",
       "    </tr>\n",
       "    <tr>\n",
       "      <th>2</th>\n",
       "      <td>2018-03-01 00:20:00</td>\n",
       "      <td>28</td>\n",
       "    </tr>\n",
       "    <tr>\n",
       "      <th>3</th>\n",
       "      <td>2018-03-01 00:30:00</td>\n",
       "      <td>20</td>\n",
       "    </tr>\n",
       "    <tr>\n",
       "      <th>4</th>\n",
       "      <td>2018-03-01 00:40:00</td>\n",
       "      <td>32</td>\n",
       "    </tr>\n",
       "    <tr>\n",
       "      <th>...</th>\n",
       "      <td>...</td>\n",
       "      <td>...</td>\n",
       "    </tr>\n",
       "    <tr>\n",
       "      <th>26491</th>\n",
       "      <td>2018-08-31 23:10:00</td>\n",
       "      <td>32</td>\n",
       "    </tr>\n",
       "    <tr>\n",
       "      <th>26492</th>\n",
       "      <td>2018-08-31 23:20:00</td>\n",
       "      <td>24</td>\n",
       "    </tr>\n",
       "    <tr>\n",
       "      <th>26493</th>\n",
       "      <td>2018-08-31 23:30:00</td>\n",
       "      <td>27</td>\n",
       "    </tr>\n",
       "    <tr>\n",
       "      <th>26494</th>\n",
       "      <td>2018-08-31 23:40:00</td>\n",
       "      <td>39</td>\n",
       "    </tr>\n",
       "    <tr>\n",
       "      <th>26495</th>\n",
       "      <td>2018-08-31 23:50:00</td>\n",
       "      <td>53</td>\n",
       "    </tr>\n",
       "  </tbody>\n",
       "</table>\n",
       "<p>26496 rows × 2 columns</p>\n",
       "</div>"
      ],
      "text/plain": [
       "                  datetime  num_orders\n",
       "0      2018-03-01 00:00:00           9\n",
       "1      2018-03-01 00:10:00          14\n",
       "2      2018-03-01 00:20:00          28\n",
       "3      2018-03-01 00:30:00          20\n",
       "4      2018-03-01 00:40:00          32\n",
       "...                    ...         ...\n",
       "26491  2018-08-31 23:10:00          32\n",
       "26492  2018-08-31 23:20:00          24\n",
       "26493  2018-08-31 23:30:00          27\n",
       "26494  2018-08-31 23:40:00          39\n",
       "26495  2018-08-31 23:50:00          53\n",
       "\n",
       "[26496 rows x 2 columns]"
      ]
     },
     "metadata": {},
     "output_type": "display_data"
    },
    {
     "name": "stdout",
     "output_type": "stream",
     "text": [
      "---------------------------------------------------\n",
      "Статистическое описание количества заказов\n",
      "         num_orders\n",
      "count  26496.000000\n",
      "mean      14.070463\n",
      "std        9.211330\n",
      "min        0.000000\n",
      "25%        8.000000\n",
      "50%       13.000000\n",
      "75%       19.000000\n",
      "max      119.000000\n",
      "---------------------------------------------------\n"
     ]
    },
    {
     "data": {
      "text/plain": [
       "<function matplotlib.pyplot.show(*args, **kw)>"
      ]
     },
     "execution_count": 1,
     "metadata": {},
     "output_type": "execute_result"
    },
    {
     "data": {
      "image/png": "[encoded data removed]",
      "text/plain": [
       "<Figure size 432x288 with 1 Axes>"
      ]
     },
     "metadata": {
      "needs_background": "light"
     },
     "output_type": "display_data"
    }
   ],
   "source": [
    "# Импортируем библиотеки и отдельные методы\n",
    "import pandas as pd\n",
    "import numpy as np\n",
    "import matplotlib.pyplot as plt\n",
    "from sklearn.model_selection import train_test_split, GridSearchCV, cross_val_score\n",
    "from sklearn.metrics import make_scorer\n",
    "from statsmodels.tsa.seasonal import seasonal_decompose\n",
    "\n",
    "# Импортируем модели.\n",
    "from sklearn.linear_model import LinearRegression\n",
    "from sklearn.ensemble import RandomForestRegressor\n",
    "from sklearn.dummy import DummyRegressor\n",
    "from catboost import CatBoostRegressor\n",
    "from lightgbm import LGBMRegressor\n",
    "\n",
    "# Отключаем уведомления об ошибках.\n",
    "import warnings\n",
    "warnings.filterwarnings(\"ignore\")\n",
    "\n",
    "# Открываем файл, выводим общую информацию.\n",
    "data = pd.read_csv('datasets/taxi.csv')\n",
    "print('Информация о Датасете:', data.info())\n",
    "print('Количество дублей:', data.duplicated().sum())\n",
    "print('---------------------------------------------------')\n",
    "print('Общий вид таблицы:')\n",
    "display(data)\n",
    "print('---------------------------------------------------')\n",
    "print('Статистическое описание количества заказов')\n",
    "print(data.describe())\n",
    "print('---------------------------------------------------')\n",
    "\n",
    "# Для наглядности выведем график распределения.\n",
    "data.hist(bins=60)\n",
    "plt.xlabel('Количество заказов за 10 минут')\n",
    "plt.ylabel('Количество \"десятиминуток\"')\n",
    "plt.title('Распределение количества заказов')\n",
    "plt.xlim(0, 90)\n",
    "plt.show"
   ]
  },
  {
   "cell_type": "markdown",
   "metadata": {},
   "source": [
    "Выборка достаточно качественная - дублей и пропущенных значений нет, распределение количества заказов имеет нормальный вид, а их среднее значение приближено к медиане. Да, выбивающиеся из общей массы значения есть, но к счастью их не очень много.\n",
    "\n",
    "Так как прогнозирование количества заказов будет производиться для ближайшего часа, а данные указаны для десятиминутных интервалов, потребуется **произвести ресемплирование временного ряда** до одного часа. Столбец datetime будет преобразован в индекс.\n",
    "\n",
    "Чтобы работать с временными рядами, необходимо проверить, в хронологическом ли порядке расположены даты и время. Для этого нужно посмотреть атрибут индекса таблицы is_monotonic. Если порядок соблюдён, атрибут вернёт True, если нет — False."
   ]
  },
  {
   "cell_type": "code",
   "execution_count": 2,
   "metadata": {},
   "outputs": [
    {
     "name": "stdout",
     "output_type": "stream",
     "text": [
      "В хронологическом ли порядке расположены даты и время?\n",
      "Ответ: True\n"
     ]
    },
    {
     "data": {
      "text/html": [
       "<div>\n",
       "<style scoped>\n",
       "    .dataframe tbody tr th:only-of-type {\n",
       "        vertical-align: middle;\n",
       "    }\n",
       "\n",
       "    .dataframe tbody tr th {\n",
       "        vertical-align: top;\n",
       "    }\n",
       "\n",
       "    .dataframe thead th {\n",
       "        text-align: right;\n",
       "    }\n",
       "</style>\n",
       "<table border=\"1\" class=\"dataframe\">\n",
       "  <thead>\n",
       "    <tr style=\"text-align: right;\">\n",
       "      <th></th>\n",
       "      <th>num_orders</th>\n",
       "    </tr>\n",
       "    <tr>\n",
       "      <th>datetime</th>\n",
       "      <th></th>\n",
       "    </tr>\n",
       "  </thead>\n",
       "  <tbody>\n",
       "    <tr>\n",
       "      <th>2018-03-01 00:00:00</th>\n",
       "      <td>124</td>\n",
       "    </tr>\n",
       "    <tr>\n",
       "      <th>2018-03-01 01:00:00</th>\n",
       "      <td>85</td>\n",
       "    </tr>\n",
       "    <tr>\n",
       "      <th>2018-03-01 02:00:00</th>\n",
       "      <td>71</td>\n",
       "    </tr>\n",
       "    <tr>\n",
       "      <th>2018-03-01 03:00:00</th>\n",
       "      <td>66</td>\n",
       "    </tr>\n",
       "    <tr>\n",
       "      <th>2018-03-01 04:00:00</th>\n",
       "      <td>43</td>\n",
       "    </tr>\n",
       "    <tr>\n",
       "      <th>...</th>\n",
       "      <td>...</td>\n",
       "    </tr>\n",
       "    <tr>\n",
       "      <th>2018-08-31 19:00:00</th>\n",
       "      <td>136</td>\n",
       "    </tr>\n",
       "    <tr>\n",
       "      <th>2018-08-31 20:00:00</th>\n",
       "      <td>154</td>\n",
       "    </tr>\n",
       "    <tr>\n",
       "      <th>2018-08-31 21:00:00</th>\n",
       "      <td>159</td>\n",
       "    </tr>\n",
       "    <tr>\n",
       "      <th>2018-08-31 22:00:00</th>\n",
       "      <td>223</td>\n",
       "    </tr>\n",
       "    <tr>\n",
       "      <th>2018-08-31 23:00:00</th>\n",
       "      <td>205</td>\n",
       "    </tr>\n",
       "  </tbody>\n",
       "</table>\n",
       "<p>4416 rows × 1 columns</p>\n",
       "</div>"
      ],
      "text/plain": [
       "                     num_orders\n",
       "datetime                       \n",
       "2018-03-01 00:00:00         124\n",
       "2018-03-01 01:00:00          85\n",
       "2018-03-01 02:00:00          71\n",
       "2018-03-01 03:00:00          66\n",
       "2018-03-01 04:00:00          43\n",
       "...                         ...\n",
       "2018-08-31 19:00:00         136\n",
       "2018-08-31 20:00:00         154\n",
       "2018-08-31 21:00:00         159\n",
       "2018-08-31 22:00:00         223\n",
       "2018-08-31 23:00:00         205\n",
       "\n",
       "[4416 rows x 1 columns]"
      ]
     },
     "metadata": {},
     "output_type": "display_data"
    }
   ],
   "source": [
    "# Преобразование datetime в индекс DatetimeIndex\n",
    "data['datetime'] = pd.to_datetime(data['datetime'])\n",
    "data.index = data['datetime']\n",
    "data.drop(columns = ['datetime'], inplace = True)\n",
    "\n",
    "# Ресемплинг, проверка на монотонность и вывод полученной таблицы\n",
    "print('В хронологическом ли порядке расположены даты и время?')\n",
    "print('Ответ:', data.index.is_monotonic)\n",
    "data = data.resample('1H').sum()\n",
    "display(data)"
   ]
  },
  {
   "cell_type": "markdown",
   "metadata": {},
   "source": [
    "Данные подготовлены для анализа, можем переходить к следующему шагу"
   ]
  },
  {
   "cell_type": "markdown",
   "metadata": {},
   "source": [
    "## 2. Анализ данных\n",
    "\n",
    "Разложим временной ряд на три составляющие: тренд, сезонность и остаток. Для лучшей наглядности графиков, добавим параметр частоты, равный одному дню."
   ]
  },
  {
   "cell_type": "code",
   "execution_count": 3,
   "metadata": {
    "scrolled": false
   },
   "outputs": [
    {
     "data": {
      "image/png": "[encoded data removed]",
      "text/plain": [
       "<Figure size 720x720 with 3 Axes>"
      ]
     },
     "metadata": {
      "needs_background": "light"
     },
     "output_type": "display_data"
    }
   ],
   "source": [
    "decomposed = seasonal_decompose(data, freq=(data.count()[0]/24).astype('Int64'))\n",
    "\n",
    "# Размер графиков\n",
    "plt.figure(figsize=(10, 10))\n",
    "\n",
    "# Тренд\n",
    "plt.subplot(311)\n",
    "decomposed.trend.plot(ax=plt.gca())\n",
    "plt.title('Trend')\n",
    "\n",
    "# Сезонность\n",
    "plt.subplot(312)\n",
    "decomposed.seasonal.plot() \n",
    "plt.title('Seasonality')\n",
    "\n",
    "# Остатки\n",
    "plt.subplot(313)\n",
    "decomposed.resid.plot(ax=plt.gca()) \n",
    "plt.title('Residuals')\n",
    "\n",
    "# Вывод графиков\n",
    "plt.tight_layout()"
   ]
  },
  {
   "cell_type": "markdown",
   "metadata": {},
   "source": [
    "Общий наблюдаемый тренд в выбранном периоде - восходящий. Увеличение среднего числа заказов становится заметным практически сразу. Во второй половине рассматриваемого периода рост становится двукратным. На графике сезонности присутствуют периодические колебания значений, что может говорить о наличии этой самой сезонности. Правда график остатков имеет некоторые всплески значений - получается, что в выборке присутствуют некоторые вбросы, не объясненные общим трендом и сезонностью.\n",
    "\n",
    "К сожалению, нам представлены данные за неполный год, поэтому сложно говорить о сезонности по месяцам, но вот отдельные дни месяца, недели, а также часы в течение дня мы можем изучить более детально."
   ]
  },
  {
   "cell_type": "code",
   "execution_count": 4,
   "metadata": {
    "scrolled": false
   },
   "outputs": [
    {
     "data": {
      "image/png": "[encoded data removed]",
      "text/plain": [
       "<Figure size 432x288 with 1 Axes>"
      ]
     },
     "metadata": {
      "needs_background": "light"
     },
     "output_type": "display_data"
    },
    {
     "data": {
      "image/png": "[encoded data removed]",
      "text/plain": [
       "<Figure size 432x288 with 1 Axes>"
      ]
     },
     "metadata": {
      "needs_background": "light"
     },
     "output_type": "display_data"
    },
    {
     "data": {
      "image/png": "[encoded data removed]",
      "text/plain": [
       "<Figure size 432x288 with 1 Axes>"
      ]
     },
     "metadata": {
      "needs_background": "light"
     },
     "output_type": "display_data"
    },
    {
     "name": "stdout",
     "output_type": "stream",
     "text": [
      "Табличный вид распределения числа заказов по дням недели:\n"
     ]
    },
    {
     "data": {
      "text/html": [
       "<div>\n",
       "<style scoped>\n",
       "    .dataframe tbody tr th:only-of-type {\n",
       "        vertical-align: middle;\n",
       "    }\n",
       "\n",
       "    .dataframe tbody tr th {\n",
       "        vertical-align: top;\n",
       "    }\n",
       "\n",
       "    .dataframe thead th {\n",
       "        text-align: right;\n",
       "    }\n",
       "</style>\n",
       "<table border=\"1\" class=\"dataframe\">\n",
       "  <thead>\n",
       "    <tr style=\"text-align: right;\">\n",
       "      <th></th>\n",
       "      <th>num_orders</th>\n",
       "    </tr>\n",
       "  </thead>\n",
       "  <tbody>\n",
       "    <tr>\n",
       "      <th>Monday</th>\n",
       "      <td>90.246795</td>\n",
       "    </tr>\n",
       "    <tr>\n",
       "      <th>Tuesday</th>\n",
       "      <td>77.011218</td>\n",
       "    </tr>\n",
       "    <tr>\n",
       "      <th>Wednesday</th>\n",
       "      <td>83.754808</td>\n",
       "    </tr>\n",
       "    <tr>\n",
       "      <th>Thursday</th>\n",
       "      <td>85.660494</td>\n",
       "    </tr>\n",
       "    <tr>\n",
       "      <th>Friday</th>\n",
       "      <td>91.140432</td>\n",
       "    </tr>\n",
       "    <tr>\n",
       "      <th>Saturday</th>\n",
       "      <td>83.847756</td>\n",
       "    </tr>\n",
       "    <tr>\n",
       "      <th>Sunday</th>\n",
       "      <td>78.991987</td>\n",
       "    </tr>\n",
       "  </tbody>\n",
       "</table>\n",
       "</div>"
      ],
      "text/plain": [
       "           num_orders\n",
       "Monday      90.246795\n",
       "Tuesday     77.011218\n",
       "Wednesday   83.754808\n",
       "Thursday    85.660494\n",
       "Friday      91.140432\n",
       "Saturday    83.847756\n",
       "Sunday      78.991987"
      ]
     },
     "metadata": {},
     "output_type": "display_data"
    }
   ],
   "source": [
    "# Среднее количество заказов в зависимости от дня месяца\n",
    "groupby_day = pd.pivot_table(data, index=data.index.day, aggfunc='mean')\n",
    "groupby_day.plot()\n",
    "plt.xlabel('День месяца')\n",
    "plt.title('Среднее количество заказов в зависимости от дня месяца')\n",
    "plt.show()\n",
    "\n",
    "# Среднее количество заказов в зависимости от времени\n",
    "groupby_hour = pd.pivot_table(data, index=data.index.hour, aggfunc='mean')\n",
    "groupby_hour.plot()\n",
    "plt.xlabel('Время дня')\n",
    "plt.title('Среднее количество заказов в зависимости от времени суток')\n",
    "plt.show()\n",
    "\n",
    "\n",
    "# Среднее количество заказов в зависимости от дня недели\n",
    "groupby_dayofweek = pd.pivot_table(data, index=data.index.dayofweek, aggfunc='mean')\n",
    "groupby_dayofweek.index = ['Monday', 'Tuesday', 'Wednesday', 'Thursday', 'Friday', 'Saturday', 'Sunday']\n",
    "groupby_dayofweek.plot()\n",
    "plt.title('Среднее количество заказов в зависимости от дня недели')\n",
    "plt.show()\n",
    "print('Табличный вид распределения числа заказов по дням недели:')\n",
    "display(groupby_dayofweek)"
   ]
  },
  {
   "cell_type": "markdown",
   "metadata": {},
   "source": [
    "Неоднородность графиков и высокая амплитуда разброса значений говорит о наличии взаимосвязи количества заказов от дня месяца, недели и от времени суток.\n",
    " - В течение месяца спрос постоянно растёт, и получается, что конец месяца в среднем почти в полтора раза популярнее начала месяца.\n",
    " - Наиболее востребованным временем для заказа такси стала ночь (с 23:00 до 04:00), но с резким падением в утренние часы. Из дневных часов конкуренцию по максимальному числу заказов может составить только разве что интервал 16:00 - 17:00.\n",
    " - Самыми популярными днями недели оказались понедельник и пятница, по сравнению с \"аутсайдерами\" (вторником и воскресеньем) - заказов за сутки набирается в среднем на 12-13 больше.\n",
    " \n",
    "Если есть закономерности в объеме спроса, то его можно спрогнозировать, а помогут в этом модели машинного обучения."
   ]
  },
  {
   "cell_type": "markdown",
   "metadata": {},
   "source": [
    "## 3. Обучение моделей.\n",
    "Перед настройкой моделей, оставим 10% от исходных данных для тестовой выборки. Моделей будет несколько, для каждой попробуем найти оптимальные гиперпараметры. Попробуем обучить следующие модели:\n",
    "\n",
    "- LightGBM (градиентный бустинг)\n",
    "- CatBoost (градиентный бустинг)\n",
    "- LinearRegression (линейная регрессия)\n",
    "- RandomForestRegressor (случайный лес)\n",
    "\n",
    "Добавим также для сравнения константную модель, которая будет все значения выборки предсказывать одним и тем же числом (константой).\n",
    "\n",
    "### 3.1. Создание признаков.\n",
    "Для наших моделей потребуются признаки, по которым будет происходить поиск взаимосвязей и предсказывание целевого признака. Создавать признаки будем внутри функции, их будет 3 вида:\n",
    "\n",
    " 1. **Календарные признаки (англ. calendar features)**\n",
    "Простая информация о конкретном месяце, дне месяца и недели, а также часе поездки. Год отдельно не выделяем, так как у нас данные только за 2018-ый.\n",
    " 2. **«Отстающие значения» (англ. lag features)**\n",
    "Предыдущие значения временного ряда подскажут, будет ли функция x(t) расти или уменьшаться. Получим отстающие значения функцией shift().\n",
    " 3. **Скользящее среднее**. \n",
    "Скользящее среднее как признак задаёт общий тренд временного ряда. "
   ]
  },
  {
   "cell_type": "code",
   "execution_count": 5,
   "metadata": {},
   "outputs": [
    {
     "name": "stdout",
     "output_type": "stream",
     "text": [
      "Как выглядит новая таблица после добавления в неё признаков\n"
     ]
    },
    {
     "data": {
      "text/html": [
       "<div>\n",
       "<style scoped>\n",
       "    .dataframe tbody tr th:only-of-type {\n",
       "        vertical-align: middle;\n",
       "    }\n",
       "\n",
       "    .dataframe tbody tr th {\n",
       "        vertical-align: top;\n",
       "    }\n",
       "\n",
       "    .dataframe thead th {\n",
       "        text-align: right;\n",
       "    }\n",
       "</style>\n",
       "<table border=\"1\" class=\"dataframe\">\n",
       "  <thead>\n",
       "    <tr style=\"text-align: right;\">\n",
       "      <th></th>\n",
       "      <th>num_orders</th>\n",
       "      <th>month</th>\n",
       "      <th>day</th>\n",
       "      <th>dayofweek</th>\n",
       "      <th>hour</th>\n",
       "      <th>lag_1</th>\n",
       "      <th>lag_2</th>\n",
       "      <th>lag_3</th>\n",
       "      <th>lag_4</th>\n",
       "      <th>rolling_mean</th>\n",
       "    </tr>\n",
       "    <tr>\n",
       "      <th>datetime</th>\n",
       "      <th></th>\n",
       "      <th></th>\n",
       "      <th></th>\n",
       "      <th></th>\n",
       "      <th></th>\n",
       "      <th></th>\n",
       "      <th></th>\n",
       "      <th></th>\n",
       "      <th></th>\n",
       "      <th></th>\n",
       "    </tr>\n",
       "  </thead>\n",
       "  <tbody>\n",
       "    <tr>\n",
       "      <th>2018-03-01 00:00:00</th>\n",
       "      <td>124</td>\n",
       "      <td>3</td>\n",
       "      <td>1</td>\n",
       "      <td>3</td>\n",
       "      <td>0</td>\n",
       "      <td>NaN</td>\n",
       "      <td>NaN</td>\n",
       "      <td>NaN</td>\n",
       "      <td>NaN</td>\n",
       "      <td>NaN</td>\n",
       "    </tr>\n",
       "    <tr>\n",
       "      <th>2018-03-01 01:00:00</th>\n",
       "      <td>85</td>\n",
       "      <td>3</td>\n",
       "      <td>1</td>\n",
       "      <td>3</td>\n",
       "      <td>1</td>\n",
       "      <td>124.0</td>\n",
       "      <td>NaN</td>\n",
       "      <td>NaN</td>\n",
       "      <td>NaN</td>\n",
       "      <td>NaN</td>\n",
       "    </tr>\n",
       "    <tr>\n",
       "      <th>2018-03-01 02:00:00</th>\n",
       "      <td>71</td>\n",
       "      <td>3</td>\n",
       "      <td>1</td>\n",
       "      <td>3</td>\n",
       "      <td>2</td>\n",
       "      <td>85.0</td>\n",
       "      <td>124.0</td>\n",
       "      <td>NaN</td>\n",
       "      <td>NaN</td>\n",
       "      <td>NaN</td>\n",
       "    </tr>\n",
       "    <tr>\n",
       "      <th>2018-03-01 03:00:00</th>\n",
       "      <td>66</td>\n",
       "      <td>3</td>\n",
       "      <td>1</td>\n",
       "      <td>3</td>\n",
       "      <td>3</td>\n",
       "      <td>71.0</td>\n",
       "      <td>85.0</td>\n",
       "      <td>124.0</td>\n",
       "      <td>NaN</td>\n",
       "      <td>NaN</td>\n",
       "    </tr>\n",
       "    <tr>\n",
       "      <th>2018-03-01 04:00:00</th>\n",
       "      <td>43</td>\n",
       "      <td>3</td>\n",
       "      <td>1</td>\n",
       "      <td>3</td>\n",
       "      <td>4</td>\n",
       "      <td>66.0</td>\n",
       "      <td>71.0</td>\n",
       "      <td>85.0</td>\n",
       "      <td>124.0</td>\n",
       "      <td>86.50</td>\n",
       "    </tr>\n",
       "    <tr>\n",
       "      <th>...</th>\n",
       "      <td>...</td>\n",
       "      <td>...</td>\n",
       "      <td>...</td>\n",
       "      <td>...</td>\n",
       "      <td>...</td>\n",
       "      <td>...</td>\n",
       "      <td>...</td>\n",
       "      <td>...</td>\n",
       "      <td>...</td>\n",
       "      <td>...</td>\n",
       "    </tr>\n",
       "    <tr>\n",
       "      <th>2018-08-13 09:00:00</th>\n",
       "      <td>137</td>\n",
       "      <td>8</td>\n",
       "      <td>13</td>\n",
       "      <td>0</td>\n",
       "      <td>9</td>\n",
       "      <td>91.0</td>\n",
       "      <td>39.0</td>\n",
       "      <td>66.0</td>\n",
       "      <td>83.0</td>\n",
       "      <td>69.75</td>\n",
       "    </tr>\n",
       "    <tr>\n",
       "      <th>2018-08-13 10:00:00</th>\n",
       "      <td>156</td>\n",
       "      <td>8</td>\n",
       "      <td>13</td>\n",
       "      <td>0</td>\n",
       "      <td>10</td>\n",
       "      <td>137.0</td>\n",
       "      <td>91.0</td>\n",
       "      <td>39.0</td>\n",
       "      <td>66.0</td>\n",
       "      <td>83.25</td>\n",
       "    </tr>\n",
       "    <tr>\n",
       "      <th>2018-08-13 11:00:00</th>\n",
       "      <td>144</td>\n",
       "      <td>8</td>\n",
       "      <td>13</td>\n",
       "      <td>0</td>\n",
       "      <td>11</td>\n",
       "      <td>156.0</td>\n",
       "      <td>137.0</td>\n",
       "      <td>91.0</td>\n",
       "      <td>39.0</td>\n",
       "      <td>105.75</td>\n",
       "    </tr>\n",
       "    <tr>\n",
       "      <th>2018-08-13 12:00:00</th>\n",
       "      <td>92</td>\n",
       "      <td>8</td>\n",
       "      <td>13</td>\n",
       "      <td>0</td>\n",
       "      <td>12</td>\n",
       "      <td>144.0</td>\n",
       "      <td>156.0</td>\n",
       "      <td>137.0</td>\n",
       "      <td>91.0</td>\n",
       "      <td>132.00</td>\n",
       "    </tr>\n",
       "    <tr>\n",
       "      <th>2018-08-13 13:00:00</th>\n",
       "      <td>119</td>\n",
       "      <td>8</td>\n",
       "      <td>13</td>\n",
       "      <td>0</td>\n",
       "      <td>13</td>\n",
       "      <td>92.0</td>\n",
       "      <td>144.0</td>\n",
       "      <td>156.0</td>\n",
       "      <td>137.0</td>\n",
       "      <td>132.25</td>\n",
       "    </tr>\n",
       "  </tbody>\n",
       "</table>\n",
       "<p>3974 rows × 10 columns</p>\n",
       "</div>"
      ],
      "text/plain": [
       "                     num_orders  month  day  dayofweek  hour  lag_1  lag_2  \\\n",
       "datetime                                                                     \n",
       "2018-03-01 00:00:00         124      3    1          3     0    NaN    NaN   \n",
       "2018-03-01 01:00:00          85      3    1          3     1  124.0    NaN   \n",
       "2018-03-01 02:00:00          71      3    1          3     2   85.0  124.0   \n",
       "2018-03-01 03:00:00          66      3    1          3     3   71.0   85.0   \n",
       "2018-03-01 04:00:00          43      3    1          3     4   66.0   71.0   \n",
       "...                         ...    ...  ...        ...   ...    ...    ...   \n",
       "2018-08-13 09:00:00         137      8   13          0     9   91.0   39.0   \n",
       "2018-08-13 10:00:00         156      8   13          0    10  137.0   91.0   \n",
       "2018-08-13 11:00:00         144      8   13          0    11  156.0  137.0   \n",
       "2018-08-13 12:00:00          92      8   13          0    12  144.0  156.0   \n",
       "2018-08-13 13:00:00         119      8   13          0    13   92.0  144.0   \n",
       "\n",
       "                     lag_3  lag_4  rolling_mean  \n",
       "datetime                                         \n",
       "2018-03-01 00:00:00    NaN    NaN           NaN  \n",
       "2018-03-01 01:00:00    NaN    NaN           NaN  \n",
       "2018-03-01 02:00:00    NaN    NaN           NaN  \n",
       "2018-03-01 03:00:00  124.0    NaN           NaN  \n",
       "2018-03-01 04:00:00   85.0  124.0         86.50  \n",
       "...                    ...    ...           ...  \n",
       "2018-08-13 09:00:00   66.0   83.0         69.75  \n",
       "2018-08-13 10:00:00   39.0   66.0         83.25  \n",
       "2018-08-13 11:00:00   91.0   39.0        105.75  \n",
       "2018-08-13 12:00:00  137.0   91.0        132.00  \n",
       "2018-08-13 13:00:00  156.0  137.0        132.25  \n",
       "\n",
       "[3974 rows x 10 columns]"
      ]
     },
     "metadata": {},
     "output_type": "display_data"
    }
   ],
   "source": [
    "# Разделяем датасет на тестовую и обучающую выборку\n",
    "train, test = train_test_split(data, shuffle=False, test_size=0.1)\n",
    "\n",
    "# Функция создания признаков трёх видов.\n",
    "def make_features(data, max_lag, rolling_mean_size):\n",
    "    data['month'] = data.index.month\n",
    "    data['day'] = data.index.day\n",
    "    data['dayofweek'] = data.index.dayofweek\n",
    "    data['hour'] = data.index.hour\n",
    "    \n",
    "    for lag in range(1, max_lag + 1):\n",
    "        data['lag_{}'.format(lag)] = data['num_orders'].shift(lag)\n",
    "\n",
    "    data['rolling_mean'] = data['num_orders'].shift().rolling(rolling_mean_size).mean()\n",
    "\n",
    "make_features(train, 4, 4)\n",
    "print('Как выглядит новая таблица после добавления в неё признаков')\n",
    "display(train)"
   ]
  },
  {
   "cell_type": "markdown",
   "metadata": {},
   "source": [
    "### 3.2. Подбор гиперпараметров моделей.\n",
    "\n",
    "Для подбора гиперпараметров будем использовать GridSeacrhCV. Так как моделей у нас будет несколько, полезно написать функцию для быстрой проверки каждой из моделей. Основная метрика, которую будет пытаться минимизировать GridSearchCV (точнее - отрицательно максимизировать) это RMSE. Для неё мы также создадим отдельную функцию, из которой сделаем scorer."
   ]
  },
  {
   "cell_type": "code",
   "execution_count": 6,
   "metadata": {},
   "outputs": [],
   "source": [
    "# Создаём функцию, к минимизации которой будет стремиться GridSearch.\n",
    "def rmse(y_true, y_pred):\n",
    "    return np.sqrt(((y_pred - y_true) ** 2).mean())\n",
    "rmse_scorer = make_scorer(rmse, greater_is_better=False)\n",
    "\n",
    "# Создаём функцию для GridSearch\n",
    "def grid_search(data, model, param_grid):\n",
    "    # Создаём два алгоритма для моделей, в зависимости от возможности/невозмжности работы с пропусками.\n",
    "    model_Grid = GridSearchCV(estimator = model, param_grid = param_grid, scoring = rmse_scorer)\n",
    "    try:\n",
    "        X = data.drop(columns = 'num_orders')\n",
    "        y = data['num_orders']\n",
    "        model_Grid.fit(X, y)\n",
    "    except:\n",
    "        data = data.dropna()\n",
    "        X = data.drop(columns = 'num_orders')\n",
    "        y = data['num_orders']\n",
    "        model_Grid.fit(X, y)\n",
    "    print('Оптимальные параметры модели:')\n",
    "    display(model_Grid.best_params_)\n",
    "    print('Качество модели при таких параметрах:', (model_Grid.best_score_ * -1).round(1))\n",
    "    return model_Grid.best_estimator_"
   ]
  },
  {
   "cell_type": "code",
   "execution_count": 7,
   "metadata": {},
   "outputs": [
    {
     "name": "stdout",
     "output_type": "stream",
     "text": [
      "LightGBM\n",
      "Оптимальные параметры модели:\n"
     ]
    },
    {
     "data": {
      "text/plain": [
       "{'learning_rate': 0.01, 'n_estimators': 700}"
      ]
     },
     "metadata": {},
     "output_type": "display_data"
    },
    {
     "name": "stdout",
     "output_type": "stream",
     "text": [
      "Качество модели при таких параметрах: 23.9\n",
      "Wall time: 1min 43s\n"
     ]
    }
   ],
   "source": [
    "%%time\n",
    "print('LightGBM')\n",
    "model1 = LGBMRegressor(objective='rmse', random_state=321)\n",
    "param_grid1 = {'learning_rate' : [0.01, 0.1, 0.2, 0.5, 0.7, 1],\n",
    "              'n_estimators': [400, 700, 1000, 1500]}\n",
    "model1_best = grid_search(train, model1, param_grid1)"
   ]
  },
  {
   "cell_type": "code",
   "execution_count": 8,
   "metadata": {},
   "outputs": [
    {
     "name": "stdout",
     "output_type": "stream",
     "text": [
      "CatBoostRegressor.\n",
      "Оптимальные параметры модели:\n"
     ]
    },
    {
     "data": {
      "text/plain": [
       "{'depth': 3, 'learning_rate': 0.1}"
      ]
     },
     "metadata": {},
     "output_type": "display_data"
    },
    {
     "name": "stdout",
     "output_type": "stream",
     "text": [
      "Качество модели при таких параметрах: 23.2\n",
      "Wall time: 4min 16s\n"
     ]
    }
   ],
   "source": [
    "%%time\n",
    "print('CatBoostRegressor.')\n",
    "model2 = CatBoostRegressor(custom_metric='RMSE', random_state=321, verbose=False)\n",
    "param_grid2 = {'learning_rate': [0.01, 0.1, 0.5, 0.7, 1], \n",
    "               'depth': [int (x) for x in np.arange(start = 3, stop = 12, step = 3)]}\n",
    "model2_best = grid_search(train, model2, param_grid2)"
   ]
  },
  {
   "cell_type": "code",
   "execution_count": 9,
   "metadata": {},
   "outputs": [
    {
     "name": "stdout",
     "output_type": "stream",
     "text": [
      "Линейная регрессия.\n",
      "Оптимальные параметры модели:\n"
     ]
    },
    {
     "data": {
      "text/plain": [
       "{'fit_intercept': False, 'normalize': True}"
      ]
     },
     "metadata": {},
     "output_type": "display_data"
    },
    {
     "name": "stdout",
     "output_type": "stream",
     "text": [
      "Качество модели при таких параметрах: 30.5\n",
      "Wall time: 290 ms\n"
     ]
    }
   ],
   "source": [
    "%%time\n",
    "print('Линейная регрессия.')\n",
    "model3 = LinearRegression()\n",
    "param_grid3 = {'normalize': [True, False], 'fit_intercept': [True, False]}  \n",
    "model3_best = grid_search(train, model3, param_grid3)"
   ]
  },
  {
   "cell_type": "code",
   "execution_count": 10,
   "metadata": {},
   "outputs": [
    {
     "name": "stdout",
     "output_type": "stream",
     "text": [
      "Случайный лес\n",
      "Оптимальные параметры модели:\n"
     ]
    },
    {
     "data": {
      "text/plain": [
       "{'max_depth': 9, 'n_estimators': 220}"
      ]
     },
     "metadata": {},
     "output_type": "display_data"
    },
    {
     "name": "stdout",
     "output_type": "stream",
     "text": [
      "Качество модели при таких параметрах: 25.4\n",
      "Wall time: 1min 57s\n"
     ]
    }
   ],
   "source": [
    "%%time\n",
    "print('Случайный лес')\n",
    "model4 = RandomForestRegressor(random_state=321)\n",
    "param_grid4 = {'n_estimators': [int (x) for x in np.arange(start = 100, stop = 240, step = 20)],\n",
    "              'max_depth': [int (x) for x in np.arange(start = 1, stop = 10, step = 2)]}\n",
    "model4_best = grid_search(train, model4, param_grid4)"
   ]
  },
  {
   "cell_type": "code",
   "execution_count": 11,
   "metadata": {},
   "outputs": [
    {
     "name": "stdout",
     "output_type": "stream",
     "text": [
      "Константная модель.\n",
      "Оптимальные параметры модели:\n"
     ]
    },
    {
     "data": {
      "text/plain": [
       "{'strategy': 'median'}"
      ]
     },
     "metadata": {},
     "output_type": "display_data"
    },
    {
     "name": "stdout",
     "output_type": "stream",
     "text": [
      "Качество модели при таких параметрах: 40.1\n"
     ]
    }
   ],
   "source": [
    "print('Константная модель.')\n",
    "model_dummy = DummyRegressor(constant = 0)\n",
    "param_grid_dummy = {'strategy': ['median', 'mean', 'constant']}\n",
    "model_dummy_best = grid_search(train, model_dummy, param_grid_dummy)"
   ]
  },
  {
   "cell_type": "markdown",
   "metadata": {},
   "source": [
    "Оптимальные гиперпараметры для каждой из моделей найдены, а также доказана их адекватность (качество выше, чем у константной модели) - можно переходить к проверке на тестовой выборке."
   ]
  },
  {
   "cell_type": "markdown",
   "metadata": {},
   "source": [
    "## 4. Проверка моделей на тестовой выборке\n",
    "\n",
    "Модели ранее уже были обучены на тренировочной выборке во время подбора гиперапараметров, поэтому обучать повторно их не нужно - достаточно лишь передать признаки тестовой выборки и оценить точность предсказаний при помощи кросс-валидации."
   ]
  },
  {
   "cell_type": "code",
   "execution_count": 12,
   "metadata": {},
   "outputs": [
    {
     "name": "stdout",
     "output_type": "stream",
     "text": [
      "Итоговое качество LightGBM: 41.0\n",
      "\n",
      "Итоговое качество CatBoost: 41.3\n",
      "\n",
      "Итоговое качество Линейной регрессии: 50.0\n",
      "\n",
      "Итоговое качество Случайного леса: 40.0\n",
      "\n",
      "Качество константой модели на тестовой выборке: 61.0\n"
     ]
    }
   ],
   "source": [
    "make_features(test, 4, 4)\n",
    "\n",
    "def rmse_cv(model, data):\n",
    "    X = data.drop(columns = ['num_orders'])\n",
    "    y = data['num_orders']\n",
    "    try:\n",
    "        result = cross_val_score(model, X, y, cv = 3, scoring = rmse_scorer).mean()\n",
    "    except:\n",
    "        data = data.dropna()\n",
    "        X = data.drop(columns = ['num_orders'])\n",
    "        y = data['num_orders']\n",
    "        result = cross_val_score(model, X, y, cv = 5, scoring = rmse_scorer).mean()\n",
    "    return (result * -1).round(1)\n",
    "\n",
    "rmse1 = rmse_cv(model1_best, test)\n",
    "print('Итоговое качество LightGBM:', rmse1)\n",
    "print('')\n",
    "\n",
    "rmse2 = rmse_cv(model2_best, test)\n",
    "print('Итоговое качество CatBoost:', rmse2)\n",
    "print('')\n",
    "\n",
    "rmse3 = rmse_cv(model3_best, test)\n",
    "print('Итоговое качество Линейной регрессии:', rmse3)\n",
    "print('')\n",
    "\n",
    "rmse4 = rmse_cv(model4_best, test)\n",
    "print('Итоговое качество Случайного леса:', rmse4)\n",
    "print('')\n",
    "\n",
    "rmse_dummy = rmse_cv(model_dummy_best, test)\n",
    "print('Качество константой модели на тестовой выборке:', rmse_dummy)"
   ]
  },
  {
   "cell_type": "markdown",
   "metadata": {},
   "source": [
    "**Итоги:** \n",
    "\n",
    "Благодаря качественно собранным данным, и обилию взаимосвязей календарных признаков с количеством заказов (целевым признаком) - у моделей получилось с достаточно высокой точностью предсказывать спрос на услуги такси.\n",
    "\n",
    "Случайный лес смог показать наилучшее качество с результатом RMSE 40.0 на тестовой выборке. Градиентные бустинги сильно не отстали, и тоже показали высокое качество. А вот линейная регрессия пусть и лучше случайных предсказаний, но всё же не смогла преодолеть на тестовой выборке требуемый уровень RMSE раный 48. Задача выполнена."
   ]
  },
  {
   "cell_type": "code",
   "execution_count": null,
   "metadata": {},
   "outputs": [],
   "source": []
  }
 ],
 "metadata": {
  "kernelspec": {
   "display_name": "Python 3",
   "language": "python",
   "name": "python3"
  },
  "language_info": {
   "codemirror_mode": {
    "name": "ipython",
    "version": 3
   },
   "file_extension": ".py",
   "mimetype": "text/x-python",
   "name": "python",
   "nbconvert_exporter": "python",
   "pygments_lexer": "ipython3",
   "version": "3.8.5"
  },
  "toc": {
   "base_numbering": 1,
   "nav_menu": {},
   "number_sections": false,
   "sideBar": true,
   "skip_h1_title": false,
   "title_cell": "Table of Contents",
   "title_sidebar": "Contents",
   "toc_cell": false,
   "toc_position": {},
   "toc_section_display": true,
   "toc_window_display": false
  }
 },
 "nbformat": 4,
 "nbformat_minor": 4
}
