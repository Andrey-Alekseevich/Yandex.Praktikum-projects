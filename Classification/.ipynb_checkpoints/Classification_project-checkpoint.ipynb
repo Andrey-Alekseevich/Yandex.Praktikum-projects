{
 "cells": [
  {
   "cell_type": "markdown",
   "metadata": {},
   "source": [
    "# Отток клиентов банка."
   ]
  },
  {
   "cell_type": "markdown",
   "metadata": {},
   "source": [
    "На основе исторических данных о поведении клиентов банка необходимо спрогнозировать значение целевого признака - уйдёт клиент из банка в ближайшее время или нет.\n",
    "\n",
    "Основная задача - найти и построить модель с предельно большим значением *F1*-меры. Выбранную нужно довести метрику до 0.59.\n",
    "\n",
    "Дополнительно измерим *AUC-ROC*, сравнивним её значение с *F1*-мерой.\n",
    "\n",
    "Источник данных: [https://www.kaggle.com/barelydedicated/bank-customer-churn-modeling](https://www.kaggle.com/barelydedicated/bank-customer-churn-modeling)\n",
    "\n",
    "## План действий:\n",
    "\n",
    "### [1. Изучение общей информации о данных](#intro)\n",
    " - [Первичный просмотр данных](#start)\n",
    " - [Предобработка данных](#prepare)\n",
    "\n",
    "### [2. Исследование задачи](#task)\n",
    " - [Модель логистической регрессии.](#LogisticRegression)\n",
    " - [Модель случайного леса.](#RandomForestClassifier)\n",
    " - [Catboost classifier.](#Catboost)\n",
    "\n",
    "### [3. Борьба с дисбалансом](#balance)\n",
    " - [Изменение параметра weight](#weight)\n",
    " - [Увеличение выборки](#upsample)\n",
    " - [Уменьшение выборки](#downsample)\n",
    "\n",
    "### [4. Тестирование модели](#test)\n",
    " - [ROC-curve (и метрика AUC-ROC)](#auc-roc)\n",
    "\n",
    "### [Общий вывод](#summary)"
   ]
  },
  {
   "cell_type": "markdown",
   "metadata": {},
   "source": [
    "# 1. Изучение общей информации о данных <a id=\"intro\"></a>\n",
    "Осуществляем загрузку и подготовку данных.\n",
    "\n",
    "## Первичный просмотр данных <a id=\"start\"></a>\n",
    "Проверим какие форматы используются в данных, а также проверим их на наличие пропущенных значений. В столбце CustomerId должны быть уникальные значения исходя из описания данных."
   ]
  },
  {
   "cell_type": "code",
   "execution_count": 1,
   "metadata": {},
   "outputs": [
    {
     "name": "stdout",
     "output_type": "stream",
     "text": [
      "<class 'pandas.core.frame.DataFrame'>\n",
      "RangeIndex: 10000 entries, 0 to 9999\n",
      "Data columns (total 14 columns):\n",
      "RowNumber          10000 non-null int64\n",
      "CustomerId         10000 non-null int64\n",
      "Surname            10000 non-null object\n",
      "CreditScore        10000 non-null int64\n",
      "Geography          10000 non-null object\n",
      "Gender             10000 non-null object\n",
      "Age                10000 non-null int64\n",
      "Tenure             9091 non-null float64\n",
      "Balance            10000 non-null float64\n",
      "NumOfProducts      10000 non-null int64\n",
      "HasCrCard          10000 non-null int64\n",
      "IsActiveMember     10000 non-null int64\n",
      "EstimatedSalary    10000 non-null float64\n",
      "Exited             10000 non-null int64\n",
      "dtypes: float64(3), int64(8), object(3)\n",
      "memory usage: 1.1+ MB\n"
     ]
    },
    {
     "data": {
      "text/plain": [
       "None"
      ]
     },
     "metadata": {},
     "output_type": "display_data"
    },
    {
     "name": "stdout",
     "output_type": "stream",
     "text": [
      "Количество дублей: 0\n",
      "Количество дублей в столбце CustomerId: 0\n"
     ]
    },
    {
     "data": {
      "text/html": [
       "<div>\n",
       "<style scoped>\n",
       "    .dataframe tbody tr th:only-of-type {\n",
       "        vertical-align: middle;\n",
       "    }\n",
       "\n",
       "    .dataframe tbody tr th {\n",
       "        vertical-align: top;\n",
       "    }\n",
       "\n",
       "    .dataframe thead th {\n",
       "        text-align: right;\n",
       "    }\n",
       "</style>\n",
       "<table border=\"1\" class=\"dataframe\">\n",
       "  <thead>\n",
       "    <tr style=\"text-align: right;\">\n",
       "      <th></th>\n",
       "      <th>RowNumber</th>\n",
       "      <th>CustomerId</th>\n",
       "      <th>Surname</th>\n",
       "      <th>CreditScore</th>\n",
       "      <th>Geography</th>\n",
       "      <th>Gender</th>\n",
       "      <th>Age</th>\n",
       "      <th>Tenure</th>\n",
       "      <th>Balance</th>\n",
       "      <th>NumOfProducts</th>\n",
       "      <th>HasCrCard</th>\n",
       "      <th>IsActiveMember</th>\n",
       "      <th>EstimatedSalary</th>\n",
       "      <th>Exited</th>\n",
       "    </tr>\n",
       "  </thead>\n",
       "  <tbody>\n",
       "    <tr>\n",
       "      <td>0</td>\n",
       "      <td>1</td>\n",
       "      <td>15634602</td>\n",
       "      <td>Hargrave</td>\n",
       "      <td>619</td>\n",
       "      <td>France</td>\n",
       "      <td>Female</td>\n",
       "      <td>42</td>\n",
       "      <td>2.0</td>\n",
       "      <td>0.00</td>\n",
       "      <td>1</td>\n",
       "      <td>1</td>\n",
       "      <td>1</td>\n",
       "      <td>101348.88</td>\n",
       "      <td>1</td>\n",
       "    </tr>\n",
       "    <tr>\n",
       "      <td>1</td>\n",
       "      <td>2</td>\n",
       "      <td>15647311</td>\n",
       "      <td>Hill</td>\n",
       "      <td>608</td>\n",
       "      <td>Spain</td>\n",
       "      <td>Female</td>\n",
       "      <td>41</td>\n",
       "      <td>1.0</td>\n",
       "      <td>83807.86</td>\n",
       "      <td>1</td>\n",
       "      <td>0</td>\n",
       "      <td>1</td>\n",
       "      <td>112542.58</td>\n",
       "      <td>0</td>\n",
       "    </tr>\n",
       "    <tr>\n",
       "      <td>2</td>\n",
       "      <td>3</td>\n",
       "      <td>15619304</td>\n",
       "      <td>Onio</td>\n",
       "      <td>502</td>\n",
       "      <td>France</td>\n",
       "      <td>Female</td>\n",
       "      <td>42</td>\n",
       "      <td>8.0</td>\n",
       "      <td>159660.80</td>\n",
       "      <td>3</td>\n",
       "      <td>1</td>\n",
       "      <td>0</td>\n",
       "      <td>113931.57</td>\n",
       "      <td>1</td>\n",
       "    </tr>\n",
       "    <tr>\n",
       "      <td>3</td>\n",
       "      <td>4</td>\n",
       "      <td>15701354</td>\n",
       "      <td>Boni</td>\n",
       "      <td>699</td>\n",
       "      <td>France</td>\n",
       "      <td>Female</td>\n",
       "      <td>39</td>\n",
       "      <td>1.0</td>\n",
       "      <td>0.00</td>\n",
       "      <td>2</td>\n",
       "      <td>0</td>\n",
       "      <td>0</td>\n",
       "      <td>93826.63</td>\n",
       "      <td>0</td>\n",
       "    </tr>\n",
       "    <tr>\n",
       "      <td>4</td>\n",
       "      <td>5</td>\n",
       "      <td>15737888</td>\n",
       "      <td>Mitchell</td>\n",
       "      <td>850</td>\n",
       "      <td>Spain</td>\n",
       "      <td>Female</td>\n",
       "      <td>43</td>\n",
       "      <td>2.0</td>\n",
       "      <td>125510.82</td>\n",
       "      <td>1</td>\n",
       "      <td>1</td>\n",
       "      <td>1</td>\n",
       "      <td>79084.10</td>\n",
       "      <td>0</td>\n",
       "    </tr>\n",
       "  </tbody>\n",
       "</table>\n",
       "</div>"
      ],
      "text/plain": [
       "   RowNumber  CustomerId   Surname  CreditScore Geography  Gender  Age  \\\n",
       "0          1    15634602  Hargrave          619    France  Female   42   \n",
       "1          2    15647311      Hill          608     Spain  Female   41   \n",
       "2          3    15619304      Onio          502    France  Female   42   \n",
       "3          4    15701354      Boni          699    France  Female   39   \n",
       "4          5    15737888  Mitchell          850     Spain  Female   43   \n",
       "\n",
       "   Tenure    Balance  NumOfProducts  HasCrCard  IsActiveMember  \\\n",
       "0     2.0       0.00              1          1               1   \n",
       "1     1.0   83807.86              1          0               1   \n",
       "2     8.0  159660.80              3          1               0   \n",
       "3     1.0       0.00              2          0               0   \n",
       "4     2.0  125510.82              1          1               1   \n",
       "\n",
       "   EstimatedSalary  Exited  \n",
       "0        101348.88       1  \n",
       "1        112542.58       0  \n",
       "2        113931.57       1  \n",
       "3         93826.63       0  \n",
       "4         79084.10       0  "
      ]
     },
     "metadata": {},
     "output_type": "display_data"
    }
   ],
   "source": [
    "# Импортируем...\n",
    "\n",
    "# ...основные библиотеки,\n",
    "import pandas as pd\n",
    "import numpy as np\n",
    "import matplotlib.pyplot as plt\n",
    "\n",
    "# ... методы обрбаотки, подготовки и вывода данных,\n",
    "from sklearn.model_selection import train_test_split\n",
    "from sklearn.preprocessing import StandardScaler\n",
    "from sklearn.utils import shuffle\n",
    "from catboost.utils import get_roc_curve\n",
    "\n",
    "# ...модели и их метрики.\n",
    "from sklearn.linear_model import LogisticRegression\n",
    "from sklearn.ensemble import RandomForestClassifier\n",
    "from catboost import CatBoostClassifier, Pool\n",
    "from sklearn.metrics import accuracy_score, f1_score, auc, roc_auc_score\n",
    "from sklearn.model_selection import GridSearchCV\n",
    "\n",
    "\n",
    "# В процессе  могу появиться некритичные ошибки. Скроем их.\n",
    "import warnings\n",
    "warnings.filterwarnings(\"ignore\")\n",
    "\n",
    "# Открываем файл, выводим основную информацию по нему\n",
    "data = pd.read_csv('/datasets/Churn.csv')\n",
    "display(data.info())\n",
    "print('Количество дублей:', data.duplicated().sum())\n",
    "print('Количество дублей в столбце CustomerId:', data.duplicated(subset = ['CustomerId']).sum())\n",
    "display(data.head())"
   ]
  },
  {
   "cell_type": "markdown",
   "metadata": {},
   "source": [
    "Есть пропущенные значения в столбце Tenure — не во всех случаях известно количество недвижимости у клиента. Этот же столбец по смыслу указанных в нём данных должен иметь целочисленный формат. В остальном данные отражены корректно и в полном объёме. \n",
    "Правда если смотреть с точки зрения готовности данных для обучения моделей - то в данном случае есть необходимость в дополнительной предобработке, которую мы и осуществим."
   ]
  },
  {
   "cell_type": "markdown",
   "metadata": {},
   "source": [
    "## Предобработка данных <a id=\"prepare\"></a>\n",
    "\n",
    "Из таблицы мы уберём колонки, которые не влияют на целевые признаки, и будут лишь добавлять шум в обучение моделей. Такие признаки как: номер столбца, ID пользователя и его имя, едва ли влияют на решение об отказе от использования продуктов - при их обработке модель будет учиться искать взаимосвязи там, где их нет."
   ]
  },
  {
   "cell_type": "code",
   "execution_count": 2,
   "metadata": {},
   "outputs": [],
   "source": [
    "# Уберём ненужные колонки\n",
    "data = data.drop(columns=['RowNumber', 'CustomerId', 'Surname'], axis=1)"
   ]
  },
  {
   "cell_type": "markdown",
   "metadata": {},
   "source": [
    "Ко всему датафрейму применим технику One-Hot Encoding для преобразования категориальных переменных в численные (их всего две). Передадим аргумент drop_first=True, чтобы не попасть в дамми-ловушку. А столбец с данными о количестве недвижимости у клиента  заполним их медианной, чтобы избавить его от пропущенных значений."
   ]
  },
  {
   "cell_type": "code",
   "execution_count": 3,
   "metadata": {},
   "outputs": [
    {
     "name": "stdout",
     "output_type": "stream",
     "text": [
      "Количество пропущенных значений в столбце Tenure: 0\n"
     ]
    }
   ],
   "source": [
    "# Применим технику One-Hot Encoding\n",
    "data = pd.get_dummies(data, drop_first=True)\n",
    "\n",
    "# Заполним пропущенные значения в столбце 'Tenure'\n",
    "data['Tenure'] = data['Tenure'].fillna(data['Tenure'].median())\n",
    "\n",
    "# Проверим заполнение пропусков\n",
    "print('Количество пропущенных значений в столбце Tenure:', data['Tenure'].isna().sum())"
   ]
  },
  {
   "cell_type": "markdown",
   "metadata": {},
   "source": [
    "В данных присутствуют количественные признаки с разным разбросом значений. Вполне возможно, что для более качественного применения машинного обучения потребуется дополнительная предобработка путём стандартизации данных. Создадим дополнительный DataFrame на этот случай, но только после того как \"отрежем\" часть данных для тестовой выборки."
   ]
  },
  {
   "cell_type": "code",
   "execution_count": 4,
   "metadata": {},
   "outputs": [],
   "source": [
    "# Разделение выборок с применением стратификации (на тестовую и обучающую)\n",
    "data, data_test = train_test_split(data, test_size=0.1, random_state=12345, stratify=data['Exited'])\n",
    "\n",
    "# Стандартизируем данные \n",
    "features_values = data.drop(['Exited'], axis=1)\n",
    "scaled_values = StandardScaler().fit_transform(features_values.values)\n",
    "scaled_data = pd.DataFrame(scaled_values, index=features_values.index, columns=features_values.columns)\n",
    "scaled_data['Exited'] = data['Exited']"
   ]
  },
  {
   "cell_type": "markdown",
   "metadata": {},
   "source": [
    "Посмотрим, что в итоге получилось после предобработки данных."
   ]
  },
  {
   "cell_type": "code",
   "execution_count": 5,
   "metadata": {},
   "outputs": [
    {
     "name": "stdout",
     "output_type": "stream",
     "text": [
      "Стандартизированный DataFrame:\n"
     ]
    },
    {
     "data": {
      "text/html": [
       "<div>\n",
       "<style scoped>\n",
       "    .dataframe tbody tr th:only-of-type {\n",
       "        vertical-align: middle;\n",
       "    }\n",
       "\n",
       "    .dataframe tbody tr th {\n",
       "        vertical-align: top;\n",
       "    }\n",
       "\n",
       "    .dataframe thead th {\n",
       "        text-align: right;\n",
       "    }\n",
       "</style>\n",
       "<table border=\"1\" class=\"dataframe\">\n",
       "  <thead>\n",
       "    <tr style=\"text-align: right;\">\n",
       "      <th></th>\n",
       "      <th>CreditScore</th>\n",
       "      <th>Age</th>\n",
       "      <th>Tenure</th>\n",
       "      <th>Balance</th>\n",
       "      <th>NumOfProducts</th>\n",
       "      <th>HasCrCard</th>\n",
       "      <th>IsActiveMember</th>\n",
       "      <th>EstimatedSalary</th>\n",
       "      <th>Geography_Germany</th>\n",
       "      <th>Geography_Spain</th>\n",
       "      <th>Gender_Male</th>\n",
       "      <th>Exited</th>\n",
       "    </tr>\n",
       "  </thead>\n",
       "  <tbody>\n",
       "    <tr>\n",
       "      <td>8834</td>\n",
       "      <td>0.073807</td>\n",
       "      <td>-0.469049</td>\n",
       "      <td>-0.727682</td>\n",
       "      <td>0.490126</td>\n",
       "      <td>-0.911343</td>\n",
       "      <td>0.647388</td>\n",
       "      <td>-1.030693</td>\n",
       "      <td>0.931003</td>\n",
       "      <td>-0.579061</td>\n",
       "      <td>-0.574442</td>\n",
       "      <td>0.912685</td>\n",
       "      <td>0</td>\n",
       "    </tr>\n",
       "    <tr>\n",
       "      <td>9524</td>\n",
       "      <td>2.071453</td>\n",
       "      <td>-0.087657</td>\n",
       "      <td>-0.002257</td>\n",
       "      <td>1.125440</td>\n",
       "      <td>-0.911343</td>\n",
       "      <td>0.647388</td>\n",
       "      <td>-1.030693</td>\n",
       "      <td>-0.382992</td>\n",
       "      <td>1.726934</td>\n",
       "      <td>-0.574442</td>\n",
       "      <td>0.912685</td>\n",
       "      <td>0</td>\n",
       "    </tr>\n",
       "    <tr>\n",
       "      <td>7723</td>\n",
       "      <td>0.425724</td>\n",
       "      <td>-0.373701</td>\n",
       "      <td>0.360456</td>\n",
       "      <td>-1.227826</td>\n",
       "      <td>0.808172</td>\n",
       "      <td>-1.544670</td>\n",
       "      <td>0.970221</td>\n",
       "      <td>1.350476</td>\n",
       "      <td>-0.579061</td>\n",
       "      <td>1.740819</td>\n",
       "      <td>0.912685</td>\n",
       "      <td>0</td>\n",
       "    </tr>\n",
       "    <tr>\n",
       "      <td>2553</td>\n",
       "      <td>0.798342</td>\n",
       "      <td>3.058828</td>\n",
       "      <td>1.085881</td>\n",
       "      <td>-1.227826</td>\n",
       "      <td>-0.911343</td>\n",
       "      <td>0.647388</td>\n",
       "      <td>0.970221</td>\n",
       "      <td>1.705072</td>\n",
       "      <td>-0.579061</td>\n",
       "      <td>1.740819</td>\n",
       "      <td>0.912685</td>\n",
       "      <td>1</td>\n",
       "    </tr>\n",
       "    <tr>\n",
       "      <td>1687</td>\n",
       "      <td>2.071453</td>\n",
       "      <td>-0.183005</td>\n",
       "      <td>-0.364969</td>\n",
       "      <td>0.972274</td>\n",
       "      <td>-0.911343</td>\n",
       "      <td>0.647388</td>\n",
       "      <td>0.970221</td>\n",
       "      <td>-1.241355</td>\n",
       "      <td>-0.579061</td>\n",
       "      <td>1.740819</td>\n",
       "      <td>0.912685</td>\n",
       "      <td>0</td>\n",
       "    </tr>\n",
       "  </tbody>\n",
       "</table>\n",
       "</div>"
      ],
      "text/plain": [
       "      CreditScore       Age    Tenure   Balance  NumOfProducts  HasCrCard  \\\n",
       "8834     0.073807 -0.469049 -0.727682  0.490126      -0.911343   0.647388   \n",
       "9524     2.071453 -0.087657 -0.002257  1.125440      -0.911343   0.647388   \n",
       "7723     0.425724 -0.373701  0.360456 -1.227826       0.808172  -1.544670   \n",
       "2553     0.798342  3.058828  1.085881 -1.227826      -0.911343   0.647388   \n",
       "1687     2.071453 -0.183005 -0.364969  0.972274      -0.911343   0.647388   \n",
       "\n",
       "      IsActiveMember  EstimatedSalary  Geography_Germany  Geography_Spain  \\\n",
       "8834       -1.030693         0.931003          -0.579061        -0.574442   \n",
       "9524       -1.030693        -0.382992           1.726934        -0.574442   \n",
       "7723        0.970221         1.350476          -0.579061         1.740819   \n",
       "2553        0.970221         1.705072          -0.579061         1.740819   \n",
       "1687        0.970221        -1.241355          -0.579061         1.740819   \n",
       "\n",
       "      Gender_Male  Exited  \n",
       "8834     0.912685       0  \n",
       "9524     0.912685       0  \n",
       "7723     0.912685       0  \n",
       "2553     0.912685       1  \n",
       "1687     0.912685       0  "
      ]
     },
     "metadata": {},
     "output_type": "display_data"
    },
    {
     "name": "stdout",
     "output_type": "stream",
     "text": [
      "\n",
      "Предобработанный DataFrame без стандартизации:\n"
     ]
    },
    {
     "data": {
      "text/html": [
       "<div>\n",
       "<style scoped>\n",
       "    .dataframe tbody tr th:only-of-type {\n",
       "        vertical-align: middle;\n",
       "    }\n",
       "\n",
       "    .dataframe tbody tr th {\n",
       "        vertical-align: top;\n",
       "    }\n",
       "\n",
       "    .dataframe thead th {\n",
       "        text-align: right;\n",
       "    }\n",
       "</style>\n",
       "<table border=\"1\" class=\"dataframe\">\n",
       "  <thead>\n",
       "    <tr style=\"text-align: right;\">\n",
       "      <th></th>\n",
       "      <th>CreditScore</th>\n",
       "      <th>Age</th>\n",
       "      <th>Tenure</th>\n",
       "      <th>Balance</th>\n",
       "      <th>NumOfProducts</th>\n",
       "      <th>HasCrCard</th>\n",
       "      <th>IsActiveMember</th>\n",
       "      <th>EstimatedSalary</th>\n",
       "      <th>Exited</th>\n",
       "      <th>Geography_Germany</th>\n",
       "      <th>Geography_Spain</th>\n",
       "      <th>Gender_Male</th>\n",
       "    </tr>\n",
       "  </thead>\n",
       "  <tbody>\n",
       "    <tr>\n",
       "      <td>8834</td>\n",
       "      <td>657</td>\n",
       "      <td>34</td>\n",
       "      <td>3.0</td>\n",
       "      <td>107136.60</td>\n",
       "      <td>1</td>\n",
       "      <td>1</td>\n",
       "      <td>0</td>\n",
       "      <td>153895.46</td>\n",
       "      <td>0</td>\n",
       "      <td>0</td>\n",
       "      <td>0</td>\n",
       "      <td>1</td>\n",
       "    </tr>\n",
       "    <tr>\n",
       "      <td>9524</td>\n",
       "      <td>850</td>\n",
       "      <td>38</td>\n",
       "      <td>5.0</td>\n",
       "      <td>146756.68</td>\n",
       "      <td>1</td>\n",
       "      <td>1</td>\n",
       "      <td>0</td>\n",
       "      <td>78268.61</td>\n",
       "      <td>0</td>\n",
       "      <td>1</td>\n",
       "      <td>0</td>\n",
       "      <td>1</td>\n",
       "    </tr>\n",
       "    <tr>\n",
       "      <td>7723</td>\n",
       "      <td>691</td>\n",
       "      <td>35</td>\n",
       "      <td>6.0</td>\n",
       "      <td>0.00</td>\n",
       "      <td>2</td>\n",
       "      <td>0</td>\n",
       "      <td>1</td>\n",
       "      <td>178038.17</td>\n",
       "      <td>0</td>\n",
       "      <td>0</td>\n",
       "      <td>1</td>\n",
       "      <td>1</td>\n",
       "    </tr>\n",
       "    <tr>\n",
       "      <td>2553</td>\n",
       "      <td>727</td>\n",
       "      <td>71</td>\n",
       "      <td>8.0</td>\n",
       "      <td>0.00</td>\n",
       "      <td>1</td>\n",
       "      <td>1</td>\n",
       "      <td>1</td>\n",
       "      <td>198446.91</td>\n",
       "      <td>1</td>\n",
       "      <td>0</td>\n",
       "      <td>1</td>\n",
       "      <td>1</td>\n",
       "    </tr>\n",
       "    <tr>\n",
       "      <td>1687</td>\n",
       "      <td>850</td>\n",
       "      <td>37</td>\n",
       "      <td>4.0</td>\n",
       "      <td>137204.77</td>\n",
       "      <td>1</td>\n",
       "      <td>1</td>\n",
       "      <td>1</td>\n",
       "      <td>28865.59</td>\n",
       "      <td>0</td>\n",
       "      <td>0</td>\n",
       "      <td>1</td>\n",
       "      <td>1</td>\n",
       "    </tr>\n",
       "  </tbody>\n",
       "</table>\n",
       "</div>"
      ],
      "text/plain": [
       "      CreditScore  Age  Tenure    Balance  NumOfProducts  HasCrCard  \\\n",
       "8834          657   34     3.0  107136.60              1          1   \n",
       "9524          850   38     5.0  146756.68              1          1   \n",
       "7723          691   35     6.0       0.00              2          0   \n",
       "2553          727   71     8.0       0.00              1          1   \n",
       "1687          850   37     4.0  137204.77              1          1   \n",
       "\n",
       "      IsActiveMember  EstimatedSalary  Exited  Geography_Germany  \\\n",
       "8834               0        153895.46       0                  0   \n",
       "9524               0         78268.61       0                  1   \n",
       "7723               1        178038.17       0                  0   \n",
       "2553               1        198446.91       1                  0   \n",
       "1687               1         28865.59       0                  0   \n",
       "\n",
       "      Geography_Spain  Gender_Male  \n",
       "8834                0            1  \n",
       "9524                0            1  \n",
       "7723                1            1  \n",
       "2553                1            1  \n",
       "1687                1            1  "
      ]
     },
     "metadata": {},
     "output_type": "display_data"
    },
    {
     "name": "stdout",
     "output_type": "stream",
     "text": [
      "\n",
      "Размеры выборок:\n",
      "Обучающая + Валидационная (ДатаФрейм data): 9000\n",
      "Тестовая: 1000\n",
      "\n",
      "Процент ушедших клиентов в выборках\n",
      "В обучающей и валидационной: 20.37%\n",
      "В тестовой выборке: 20.40%\n"
     ]
    }
   ],
   "source": [
    "# Выведем предобработанные данные\n",
    "print('Стандартизированный DataFrame:')\n",
    "display(scaled_data.head())\n",
    "print('')\n",
    "print('Предобработанный DataFrame без стандартизации:')\n",
    "display(data.head())\n",
    "print('')\n",
    "\n",
    "# Выводем информацию о полученных выборках\n",
    "print('Размеры выборок:')\n",
    "print('Обучающая + Валидационная (ДатаФрейм data):', data.shape[0])\n",
    "print('Тестовая:', data_test.shape[0])\n",
    "print('')\n",
    "print('Процент ушедших клиентов в выборках')\n",
    "print('В обучающей и валидационной: {:.2%}' .format(data.query('Exited == 1').shape[0] / data.shape[0]))\n",
    "print('В тестовой выборке: {:.2%}'.format(data_test.query('Exited == 1').shape[0] / data_test.shape[0]))"
   ]
  },
  {
   "cell_type": "markdown",
   "metadata": {},
   "source": [
    "**Итоги по первому пункту:**\n",
    "Данные предобработаны. На всякий случай оставили два датафрейма - в одном из них данные были стандартизированы. Проверим насколько наши модели нуждаются в подобном шаге (во многих моделях этот процесс должен быть предусмотрен по умолчанию). \n",
    "\n",
    "Уже на этапе изучениия данных можно сделать вывод насколько классы не сбалансированы - в целевом признаке примерно в 20 % случаев встречается класс \"1\" (клиент ушёл из банка), и почти в 80 % класс \"0\" (клиент не ушёл из банка). "
   ]
  },
  {
   "cell_type": "markdown",
   "metadata": {},
   "source": [
    "# 2. Исследование задачи <a id=\"task\"></a>\n",
    "Пока что не будем принимать во внимание факт различия объемов классов почти в 4 раза, и проведём исследование задачи и обучение модели без учёта дисбаланса. \n",
    "\n",
    "Рассматривать будем три основных модели:\n",
    " 1. [Модель логистической регрессии.](#LogisticRegression)\n",
    " 2. [Модель случайного леса.](#RandomForestClassifier)\n",
    " 3. [Catboost classifier.](#Catboost)\n",
    " \n",
    "Для каждой модели посчитаем качество модели (ориентироваться будем на F1-меру). Данные выведем по обучающей и валидационной выборке, чтобы оценить переобучаемость моделей. Дополнительно оценим общее время работы функций обучения моделей, и вывода метрики по ним.\n",
    " \n",
    "Так как по ходу проекта нам понадобится менять данные перед обучением моделей (при балансировке), обучение и вывод метрик будем проводить внутри функций. Дополнительно напишем функцию для выделения в выборках столбцов с целевыми и нецелевыми признаками). Сами выборки (обучающую и валидационную) определим сразу, и будем передавать их в функции.\n",
    "\n",
    "В конце попробуем [обучить наши модели на стандартизированных данных](#Scaled_fit), проверим насколько этот процесс будет полезен для улучшения качества. "
   ]
  },
  {
   "cell_type": "code",
   "execution_count": 6,
   "metadata": {},
   "outputs": [
    {
     "name": "stdout",
     "output_type": "stream",
     "text": [
      "Размеры выборок:\n",
      "Обучающая: 8100\n",
      "Валидационная: 900\n",
      "\n",
      "Процент ушедших клиентов в выборках\n",
      "В обучающей выборки: 20.37%\n",
      "В валидационной выборке: 20.33%\n"
     ]
    }
   ],
   "source": [
    "# Напишем функцию выделения в выборках столбцов с целевыми и нецелевыми признаками.\n",
    "def split_data(data_train, data_valid, target):\n",
    "\n",
    "    features_train = data_train.drop([target], axis=1)\n",
    "    target_train = data_train[target]\n",
    "    \n",
    "    features_valid = data_valid.drop([target], axis=1)\n",
    "    target_valid = data_valid[target]\n",
    "    \n",
    "\n",
    "    return target_train, features_train, target_valid, features_valid\n",
    "\n",
    "# Определим обучающую и валидационную выборки и выведем их размеры\n",
    "data_train, data_valid = train_test_split(data, test_size=0.1, random_state=12345, stratify=data['Exited'])\n",
    "print('Размеры выборок:')\n",
    "print('Обучающая:', data_train.shape[0])\n",
    "print('Валидационная:', data_valid.shape[0])\n",
    "print('')\n",
    "print('Процент ушедших клиентов в выборках')\n",
    "print('В обучающей выборки: {:.2%}' .format(data_train.query('Exited == 1').shape[0] / data_train.shape[0]))\n",
    "print('В валидационной выборке: {:.2%}'.format(data_valid.query('Exited == 1').shape[0] / data_valid.shape[0]))"
   ]
  },
  {
   "cell_type": "markdown",
   "metadata": {},
   "source": [
    "## 2.1 Модель логистической регрессии <a id=\"LogisticRegression\"></a>\n",
    "\n",
    "В логистической регрессии поменяем только гиперпараметр solver - в прошлом проекте значение 'newton-cg' в нём позволило поднять точность модели. При необходимости в функцию можно будет передать модель с другими гиперпараметрами."
   ]
  },
  {
   "cell_type": "code",
   "execution_count": 7,
   "metadata": {},
   "outputs": [
    {
     "name": "stdout",
     "output_type": "stream",
     "text": [
      "F1-мера модели на валидационной выборке: 0.308\n",
      "F1-мера модели на тренировочной выборке: 0.321\n",
      "ROC-AUC, полученный на валидационной выборке: 0.585\n",
      "\n",
      "Время выполнения кода:\n",
      "CPU times: user 4.31 s, sys: 5.15 s, total: 9.46 s\n",
      "Wall time: 9.41 s\n"
     ]
    }
   ],
   "source": [
    "%%time\n",
    "\n",
    "# Напишем функцию обучения и тестирования модели.\n",
    "def model1_def (data_train, data_valid, target, model):\n",
    "    target_train, features_train, target_valid, features_valid = split_data(data_train, data_valid, target)\n",
    "    model.fit(features_train, target_train)\n",
    "    valid_predictions = model.predict(features_valid)\n",
    "    train_predictions = model.predict(features_train)\n",
    "    print('F1-мера модели на валидационной выборке: {:.3f}' .format(f1_score(target_valid, valid_predictions)))\n",
    "    print('F1-мера модели на тренировочной выборке: {:.3f}' .format(f1_score(target_train, train_predictions)))\n",
    "    print('ROC-AUC, полученный на валидационной выборке: {:.3f}' .format(roc_auc_score(target_valid, valid_predictions)))\n",
    "    print('')\n",
    "\n",
    "\n",
    "# Зададим параметры модели, и применим функцию\n",
    "model1 = LogisticRegression(random_state=12345, solver='newton-cg')\n",
    "model1_def (data_train, data_valid, 'Exited', model1)\n",
    "print('Время выполнения кода:')"
   ]
  },
  {
   "cell_type": "markdown",
   "metadata": {},
   "source": [
    "Качество получилось совсем низким, и вряд ли его получится существенно поднять только изменением гиперпараметров - здесь нужны более радикальные меры. Пока отложим логистическую регрессию и посмотрим на другие модели."
   ]
  },
  {
   "cell_type": "markdown",
   "metadata": {},
   "source": [
    "## 2.2 Модель случайного леса <a id=\"RandomForestClassifier\"></a>\n",
    "\n",
    "У модели случайного леса сделаем перебор гиперпараметров n_estimators и max_depth в цикле, чтобы найти наиболее качественную модель. В зависимости от аргумента \"result\" функция будет либо просто выводить параметры и значение F1-меры наилучшей модели, либо саму модель (для дальнейшего использования)."
   ]
  },
  {
   "cell_type": "code",
   "execution_count": 8,
   "metadata": {},
   "outputs": [
    {
     "name": "stdout",
     "output_type": "stream",
     "text": [
      "Оптимальные параметры:\n",
      "Оптимальное количество деревьев: 40\n",
      "Лучшая глубина дерева: 9\n",
      "\n",
      "F1-мера модели на валидационной выборке: 0.566\n",
      "F1-мера модели на тренировочной выборке: 0.652\n",
      "ROC-AUC, полученный на валидационной выборке: 0.706\n",
      "\n",
      "Время выполнения кода:\n",
      "CPU times: user 1min 6s, sys: 0 ns, total: 1min 6s\n",
      "Wall time: 1min 7s\n"
     ]
    }
   ],
   "source": [
    "%%time\n",
    "\n",
    "# Напишем функцию обучения и тестирования модели.\n",
    "def model2_def (data_train, data_valid, target, result):\n",
    "    \n",
    "    # Определение переменных и выборок\n",
    "    target_train, features_train, target_valid, features_valid = split_data(data_train, data_valid, target)\n",
    "    best_est = 0\n",
    "    best_depth = 0\n",
    "    best_f1_score = 0\n",
    "    best_model = None\n",
    "    \n",
    "    # Поиск лучшей модели\n",
    "    for est in range(10, 151, 10):\n",
    "        for depth in range (1, 10):\n",
    "            model = RandomForestClassifier(random_state=12345, n_estimators=est, max_depth=depth)\n",
    "            model.fit(features_train, target_train) \n",
    "            valid_predictions = model.predict(features_valid)\n",
    "            f1_score_result = f1_score(target_valid, valid_predictions)\n",
    "            if f1_score_result > best_f1_score:\n",
    "                best_est = est\n",
    "                best_depth = depth\n",
    "                best_f1_score = f1_score_result\n",
    "                best_model = model\n",
    "    \n",
    "    # Вывод полученных результатов или модели, в зависимости от параметра result\n",
    "    if result == 'metrics':\n",
    "        valid_predictions = best_model.predict(features_valid)\n",
    "        train_predictions = best_model.predict(features_train)\n",
    "        print('Оптимальные параметры:')\n",
    "        print('Оптимальное количество деревьев:', best_est)\n",
    "        print('Лучшая глубина дерева:', best_depth)\n",
    "        print('')\n",
    "        print('F1-мера модели на валидационной выборке: {:.3f}' .format(f1_score(target_valid, valid_predictions)))\n",
    "        print('F1-мера модели на тренировочной выборке: {:.3f}' .format(f1_score(target_train, train_predictions)))\n",
    "        print('ROC-AUC, полученный на валидационной выборке: {:.3f}' .format(roc_auc_score(target_valid, valid_predictions)))\n",
    "        print('')\n",
    "    if result == 'model':\n",
    "        return best_model\n",
    "\n",
    "# Применим функцию\n",
    "model2_def (data_train, data_valid, 'Exited', 'metrics')\n",
    "print('Время выполнения кода:')"
   ]
  },
  {
   "cell_type": "markdown",
   "metadata": {},
   "source": [
    "Качество заметно выше, чем у логистической регрессии, и почти достигло необходимой величины F-меры (0.59), но быстродействие обучения и валидации модели наоборот заметно хуже. \n",
    "\n",
    "Недостаток перебора в цикле - нет возможности передать функции модель с заранее заданными гиперпараметрами - их поиск осуществляется уже в процессе выполнения функции. Проверим альтернативный метод поиска лучшей модели, который лишён этого изъяна."
   ]
  },
  {
   "cell_type": "markdown",
   "metadata": {},
   "source": [
    "### Grid search или поиск по сетке\n",
    "Попробуем сделать код компактнее, а функцию более гибкой, при помощи метода поиска по сетке. Зададим те же параметры, сравним скорость работы. Посмотрим какие гиперпараметры по мнению Grid search являются наилучшими."
   ]
  },
  {
   "cell_type": "code",
   "execution_count": 9,
   "metadata": {
    "scrolled": true
   },
   "outputs": [
    {
     "name": "stdout",
     "output_type": "stream",
     "text": [
      "Оптимальные параметры:\n",
      "{'max_depth': 10, 'n_estimators': 20}\n",
      "\n",
      "F1-мера модели на валидационной выборке: 0.562\n",
      "F1-мера модели на тренировочной выборке: 0.687\n",
      "ROC-AUC, полученный на валидационной выборке: 0.705\n",
      "\n",
      "Время выполнения кода:\n",
      "CPU times: user 1min 44s, sys: 0 ns, total: 1min 44s\n",
      "Wall time: 1min 46s\n"
     ]
    }
   ],
   "source": [
    "%%time\n",
    "\n",
    "# Напишем функцию для поиска по сетке.\n",
    "def model2_grid_search (data_train, data_valid, target, model, result):\n",
    " \n",
    "    # Зададим параметры для поиска по сетке, определим выборки.\n",
    "    target_train, features_train, target_valid, features_valid = split_data(data_train, data_valid, target)\n",
    "    param_grid2 = {'n_estimators': [int (x) for x in np.arange(start = 10, stop = 151, step = 10)],\n",
    "              'max_depth': [int (x) for x in np.arange(start = 1, stop = 11, step = 1)]}\n",
    "    \n",
    "    # Найдём наилучшие параметры, и обучим по ним модель.\n",
    "    model2_Grid = GridSearchCV(estimator = model, param_grid = param_grid2, cv = 2, scoring = 'f1')\n",
    "    model2_Grid.fit(features_train, target_train)\n",
    "    \n",
    "    # Вывод полученных результатов или модели, в зависимости от параметра result\n",
    "    if result == 'metrics':\n",
    "        print('Оптимальные параметры:')\n",
    "        print(model2_Grid.best_params_)\n",
    "        print('')\n",
    "        valid_predictions = model2_Grid.predict(features_valid)\n",
    "        train_predictions = model2_Grid.predict(features_train)\n",
    "        print('F1-мера модели на валидационной выборке: {:.3f}' .format(f1_score(target_valid, valid_predictions)))\n",
    "        print('F1-мера модели на тренировочной выборке: {:.3f}' .format(f1_score(target_train, train_predictions)))\n",
    "        print('ROC-AUC, полученный на валидационной выборке: {:.3f}' .format(roc_auc_score(target_valid, valid_predictions)))\n",
    "        print('')\n",
    "    if result == 'model':\n",
    "        return model2_Grid\n",
    "\n",
    "# Зададим параметры модели, и применим функцию\n",
    "model2_CV = RandomForestClassifier(random_state = 12345)\n",
    "\n",
    "model2_grid_search (data_train, data_valid, 'Exited', model2_CV, 'metrics')    \n",
    "print('Время выполнения кода:')"
   ]
  },
  {
   "cell_type": "markdown",
   "metadata": {},
   "source": [
    "Хоть Grid Search слегка переобучил модель и подобрал другие параметры для модели, качество модели серьёзно не снизилось\n",
    "\n",
    "С точки зрения быстродействия поиск по сетке показал себя менее эффективным по сравнению с перебором в цикле, но сделал функцию намного более гибкой - теперь в неё можно передать \"стартовую модель\", из которой по перебору параметров можно найти (и вернуть при необходимости) лучшую модель. "
   ]
  },
  {
   "cell_type": "markdown",
   "metadata": {},
   "source": [
    "## 2.3 Catboost classifier <a id=\"Catboost\"></a>\n",
    "\n",
    "Проверим последнюю модель - Catboost. В функции оставим стандартные гиперпараметры - обычно они показывают себя весьма неплохо. Даже если полученное качество будет сильно плохим, у нас будет возможность передать в функцию новую модель, с более подходящими гиперпараметрами."
   ]
  },
  {
   "cell_type": "code",
   "execution_count": 10,
   "metadata": {},
   "outputs": [
    {
     "name": "stdout",
     "output_type": "stream",
     "text": [
      "Лучшая итерация: 102\n",
      "\n",
      "F1-мера модели на валидационной выборке: 0.592\n",
      "F1-мера модели на тренировочной выборке: 0.660\n",
      "ROC-AUC, полученный на валидационной выборке: 0.724\n",
      "\n",
      "\n",
      "Время выполнения кода:\n",
      "CPU times: user 47.1 s, sys: 5.49 s, total: 52.6 s\n",
      "Wall time: 54.8 s\n"
     ]
    }
   ],
   "source": [
    "%%time\n",
    "\n",
    "def model3_def (data_train, data_valid, target, model, result):\n",
    "    \n",
    "    # Подготовка выборок\n",
    "    target_train, features_train, target_valid, features_valid = split_data(data_train, data_valid, target)\n",
    "    eval_dataset = Pool(features_valid, target_valid)\n",
    "      \n",
    "    # Обучение и использование модели    \n",
    "    model.fit(X=features_train, y=target_train, silent = True, eval_set=eval_dataset)\n",
    "    \n",
    "    # Вывод полученных результатов или модели, в зависимости от параметра result\n",
    "    if result == 'metrics':\n",
    "        print('Лучшая итерация:', model.get_best_iteration())\n",
    "        print('')\n",
    "        valid_predictions = model.predict(features_valid)\n",
    "        train_predictions = model.predict(features_train)\n",
    "        print('F1-мера модели на валидационной выборке: {:.3f}' .format(f1_score(target_valid, valid_predictions)))\n",
    "        print('F1-мера модели на тренировочной выборке: {:.3f}' .format(f1_score(target_train, train_predictions)))\n",
    "        print('ROC-AUC, полученный на валидационной выборке: {:.3f}' .format(roc_auc_score(target_valid, valid_predictions)))\n",
    "        print('')\n",
    "    if result == 'model':\n",
    "        return model\n",
    "    \n",
    "# Применяем функцию - проверяем качество и быстродействие модели\n",
    "model3 = CatBoostClassifier(random_state=12345, eval_metric='F1')\n",
    "model3_def (data_train, data_valid, 'Exited', model3, 'metrics')\n",
    "print('')\n",
    "print('Время выполнения кода:')"
   ]
  },
  {
   "cell_type": "markdown",
   "metadata": {},
   "source": [
    "Самый быстрый и самый точный, Catboost - победитель в обучении на несбалансированных выборках. Полученная точность даже преодолела требуемый порог F1-меры. \n",
    "\n",
    "Сделать работу функции ещё быстрее поможет параметр early_stopping_rounds, лучшая итерация всё равно была найдена почти в самом начале, и незачем было проводить ещё почти 900 лишних итераций."
   ]
  },
  {
   "cell_type": "markdown",
   "metadata": {},
   "source": [
    "### Обучение на стандартизированных данных <a id=\"Scaled_fit\"></a>\n",
    "Проведём последний тест на всех трёх моделях - проверим насколько стандартизация числовых признаков помогает моделям в обучении. Для чистоты эксперимента гиперпараметры менять не будем."
   ]
  },
  {
   "cell_type": "code",
   "execution_count": 11,
   "metadata": {},
   "outputs": [
    {
     "name": "stdout",
     "output_type": "stream",
     "text": [
      "Качество модели логистической регрессии\n",
      "F1-мера модели на валидационной выборке: 0.305\n",
      "F1-мера модели на тренировочной выборке: 0.328\n",
      "ROC-AUC, полученный на валидационной выборке: 0.582\n",
      "\n",
      "--------------------------------------------------\n",
      "Качество модели случайного леса\n",
      "Оптимальные параметры:\n",
      "Оптимальное количество деревьев: 40\n",
      "Лучшая глубина дерева: 9\n",
      "\n",
      "F1-мера модели на валидационной выборке: 0.566\n",
      "F1-мера модели на тренировочной выборке: 0.653\n",
      "ROC-AUC, полученный на валидационной выборке: 0.706\n",
      "\n",
      "--------------------------------------------------\n",
      "Качество Catboost\n",
      "Лучшая итерация: 102\n",
      "\n",
      "F1-мера модели на валидационной выборке: 0.592\n",
      "F1-мера модели на тренировочной выборке: 0.660\n",
      "ROC-AUC, полученный на валидационной выборке: 0.724\n",
      "\n",
      "--------------------------------------------------\n"
     ]
    }
   ],
   "source": [
    "# Определим обучающую и валидационную выборки для стантдартизированных данных\n",
    "data_train_scaled, data_valid_scaled = train_test_split(scaled_data, test_size=0.1, random_state=12345, stratify=data['Exited'])\n",
    "\n",
    "print('Качество модели логистической регрессии')\n",
    "model1_def (data_train_scaled, data_valid_scaled, 'Exited', model1)\n",
    "print('--------------------------------------------------')\n",
    "\n",
    "print('Качество модели случайного леса')\n",
    "model2_def (data_train_scaled, data_valid_scaled, 'Exited', 'metrics')\n",
    "print('--------------------------------------------------')\n",
    "\n",
    "print('Качество Catboost')\n",
    "model3_def (data_train_scaled, data_valid_scaled, 'Exited', model3, 'metrics')\n",
    "print('--------------------------------------------------')"
   ]
  },
  {
   "cell_type": "markdown",
   "metadata": {},
   "source": [
    "**Итоги по второму пункту:**\n",
    "Положительного воздействия на обучаемость моделей стандартизация совсем не оказала (у регресии качество даже наоборот чуть-чуть снизилось). \n",
    "\n",
    "В целом - все рассмотренные модели имеют право на жизнь, и новые попытки обучения уже на сбалансированных данных.\n",
    " - **Логистическая регрессия** оказалась совсем далека от заданной планки качества, да и потенциал улучшения качества тоже низкий - метрика ROC-AUC составила всего 0.58.  При этом модель довольно быстро обучается, поэтому её можно использовать при дальнейшем исследовании, хотя бы для оценки эффективности разных методов предобработки выборок.\n",
    " - **Случайный лес** немного не добрал по качеству, да и быстродействие хуже, чем у остальных, но со счетов списывать его не будем - он может быть более восприимчивым (в хорошем смысле этого слова) к балансировке классов, тем более что метрика ROC-AUC на достойном уровне: 0.70.\n",
    " - **Catboost** явный фаворит и претендент на звание лучшей модели - качество уже лучше, чем у остальных (не только по F1-мере, но и по метрике ROC-AUC). Быстродействие также на отличном уровне (ещё и потенциально может быть улучшено) \n",
    "\n",
    "Попробуем сделать наши модели ещё лучше, перейдём к балансировке классов."
   ]
  },
  {
   "cell_type": "markdown",
   "metadata": {},
   "source": [
    "# 3. Борьба с дисбалансом <a id=\"balance\"></a>\n",
    "Улучшим качество моделей, учитывая дисбаланс классов. Обучим разные модели и найдиём лучшую.\n",
    "Сначала попробуем несколько вариантов балансировки выборок, найдём наиболее действенный.\n",
    " - [Изменение параметра weight](#weight)\n",
    " - [Увеличение выборки](#upsample)\n",
    " - [Уменьшение выборки](#downsample)"
   ]
  },
  {
   "cell_type": "markdown",
   "metadata": {},
   "source": [
    "### Просто добавили ещё один параметр (модели без применения функций) <a id=\"weight\"></a>\n",
    "\n",
    "Начнём с самого простого способа, который доступен для двух наших моделей - простое изменение параметра class_weight (class_weights с указанием новых весов для классов, в случае с Catboost).\n",
    "\n",
    "Как ранее мы успели выяснить - классы отличаются друг от друга примерно в 4 раза, на эту величину мы и будем их балансировать catboost, две другие модели будут балансироваться самостоятельно. Дополнительно ускорим наш CatBoost, и добавим ему early_stopping, чтобы не обучать лишние итерации."
   ]
  },
  {
   "cell_type": "code",
   "execution_count": 12,
   "metadata": {},
   "outputs": [
    {
     "name": "stdout",
     "output_type": "stream",
     "text": [
      "Качество модели логистической регрессии\n",
      "F1-мера модели на валидационной выборке: 0.445\n",
      "F1-мера модели на тренировочной выборке: 0.494\n",
      "ROC-AUC, полученный на валидационной выборке: 0.661\n",
      "\n",
      "--------------------------------------------------\n",
      "Качество модели случайного леста\n",
      "Оптимальные параметры:\n",
      "{'max_depth': 8, 'n_estimators': 90}\n",
      "\n",
      "F1-мера модели на валидационной выборке: 0.588\n",
      "F1-мера модели на тренировочной выборке: 0.691\n",
      "ROC-AUC, полученный на валидационной выборке: 0.760\n",
      "\n",
      "--------------------------------------------------\n",
      "Качество Catboost\n",
      "Лучшая итерация: 10\n",
      "\n",
      "F1-мера модели на валидационной выборке: 0.577\n",
      "F1-мера модели на тренировочной выборке: 0.604\n",
      "ROC-AUC, полученный на валидационной выборке: 0.768\n",
      "\n",
      "--------------------------------------------------\n"
     ]
    }
   ],
   "source": [
    "print('Качество модели логистической регрессии')\n",
    "model1_weight = LogisticRegression(random_state=12345, solver='newton-cg', class_weight='balanced')\n",
    "model1_def (data_train, data_valid, 'Exited', model1_weight)\n",
    "print('--------------------------------------------------')\n",
    "\n",
    "print('Качество модели случайного леста')\n",
    "model2_weight = RandomForestClassifier(random_state = 12345, class_weight='balanced')\n",
    "model2_grid_search (data_train, data_valid, 'Exited', model2_weight, 'metrics')\n",
    "print('--------------------------------------------------')\n",
    "\n",
    "print('Качество Catboost')\n",
    "model3 = CatBoostClassifier(random_state=12345, eval_metric='F1', early_stopping_rounds = 200)\n",
    "model3_weight = CatBoostClassifier(random_state=12345, eval_metric='F1', class_weights=[1, 4], early_stopping_rounds = 150)\n",
    "model3_def (data_train, data_valid, 'Exited', model3_weight, 'metrics')\n",
    "print('--------------------------------------------------')"
   ]
  },
  {
   "cell_type": "markdown",
   "metadata": {},
   "source": [
    "Результаты получились неоднозначными - у логистической регрессии и случайного леса качество выросло (правда не очень сильно), а вот у catboost'качество наоборот снизилось. Попробуем другие методы."
   ]
  },
  {
   "cell_type": "markdown",
   "metadata": {},
   "source": [
    "### Увеличение выборки <a id=\"upsample\"></a>\n",
    "\n",
    "Попробуем вручную произвести балансировку путём увеличения числа строчек, соответствующих классу 1, который в целом встречается в 4 раза реже. Поместим полученнный датасет в новую переменную, после чего передадим её в функции наших моделей."
   ]
  },
  {
   "cell_type": "code",
   "execution_count": 17,
   "metadata": {},
   "outputs": [
    {
     "name": "stdout",
     "output_type": "stream",
     "text": [
      "Новый размер обучающей выборки: 13050\n",
      "Количество ушедших клиентов в увеличенной выборке: 6600\n",
      "Процент ушедших клиентов в увеличенной выборке: 50.57%\n",
      "\n",
      "Качество модели логистической регрессии\n",
      "F1-мера модели на валидационной выборке: 0.447\n",
      "F1-мера модели на тренировочной выборке: 0.705\n",
      "ROC-AUC, полученный на валидационной выборке: 0.664\n",
      "\n",
      "--------------------------------------------------\n",
      "Качество модели случайного леса\n",
      "Оптимальные параметры:\n",
      "Оптимальное количество деревьев: 10\n",
      "Лучшая глубина дерева: 6\n",
      "\n",
      "F1-мера модели на валидационной выборке: 0.610\n",
      "F1-мера модели на тренировочной выборке: 0.795\n",
      "ROC-AUC, полученный на валидационной выборке: 0.784\n",
      "\n",
      "--------------------------------------------------\n",
      "Качество Catboost\n",
      "Лучшая итерация: 484\n",
      "\n",
      "F1-мера модели на валидационной выборке: 0.612\n",
      "F1-мера модели на тренировочной выборке: 0.955\n",
      "ROC-AUC, полученный на валидационной выборке: 0.769\n",
      "\n",
      "--------------------------------------------------\n"
     ]
    }
   ],
   "source": [
    "# Напишем функцию увеличения выборки\n",
    "def upsample(data, target, repeat):\n",
    "    zeros = data.loc[data[target] == 0]\n",
    "    ones = data.loc[data[target] == 1]  \n",
    "    upsampled = pd.concat([zeros] + [ones] * repeat)\n",
    "    return upsampled\n",
    "\n",
    "\n",
    "# Применение функции\n",
    "data_train_up = upsample(data_train, 'Exited', 4)\n",
    "\n",
    "# Вывод информации\n",
    "print('Новый размер обучающей выборки:', data_train_up.shape[0])\n",
    "print('Количество ушедших клиентов в увеличенной выборке:', (data_train_up['Exited'] == 1).sum())\n",
    "print('Процент ушедших клиентов в увеличенной выборке: {:.2%}' \n",
    "      .format((data_train_up['Exited'] == 1).sum() / data_train_up.shape[0]))\n",
    "print('')\n",
    "\n",
    "# Проверка апсемпла на моделях\n",
    "print('Качество модели логистической регрессии')\n",
    "model1_def (data_train_up, data_valid, 'Exited', model1)\n",
    "print('--------------------------------------------------')\n",
    "\n",
    "print('Качество модели случайного леса')\n",
    "model2_def (data_train_up, data_valid, 'Exited', 'metrics')\n",
    "print('--------------------------------------------------')\n",
    "\n",
    "print('Качество Catboost')\n",
    "model3_def (data_train_up, data_valid, 'Exited', model3, 'metrics')\n",
    "print('--------------------------------------------------')"
   ]
  },
  {
   "cell_type": "markdown",
   "metadata": {},
   "source": [
    "Результат получился уже лучше, чем при обычной замене гиперпараметров. Логистическая регрессия так и осталась отстающей - случайный лес и Catboost опять оказались сильнее.\n",
    "\n",
    "Получилось выяснить главное - метод апсемпла неплохо справился с задачей улучшения качества наших моделей. Проверим ещё один, очень похожий метод, и можно переходить к финальным тестам."
   ]
  },
  {
   "cell_type": "markdown",
   "metadata": {},
   "source": [
    "### Уменьшение выборки <a id=\"downsample\"></a>\n",
    "Тут всё то же самое - только в обратном направлении, будем уменьшать количество строк с классом 0."
   ]
  },
  {
   "cell_type": "code",
   "execution_count": 14,
   "metadata": {},
   "outputs": [
    {
     "name": "stdout",
     "output_type": "stream",
     "text": [
      "Новый размер обучающей выборки: 3262\n",
      "Количество ушедших клиентов в увеличенной выборке: 1650\n",
      "Процент ушедших клиентов в увеличенной выборке: 50.58%\n",
      "\n",
      "Качество модели логистической регрессии\n",
      "F1-мера модели на валидационной выборке: 0.449\n",
      "F1-мера модели на тренировочной выборке: 0.716\n",
      "ROC-AUC, полученный на валидационной выборке: 0.666\n",
      "\n",
      "--------------------------------------------------\n",
      "Качество модели случайного леса\n",
      "Оптимальные параметры:\n",
      "Оптимальное количество деревьев: 50\n",
      "Лучшая глубина дерева: 5\n",
      "\n",
      "F1-мера модели на валидационной выборке: 0.594\n",
      "F1-мера модели на тренировочной выборке: 0.784\n",
      "ROC-AUC, полученный на валидационной выборке: 0.775\n",
      "\n",
      "--------------------------------------------------\n",
      "Качество Catboost\n",
      "Лучшая итерация: 60\n",
      "\n",
      "F1-мера модели на валидационной выборке: 0.592\n",
      "F1-мера модели на тренировочной выборке: 0.819\n",
      "ROC-AUC, полученный на валидационной выборке: 0.775\n",
      "\n",
      "--------------------------------------------------\n"
     ]
    }
   ],
   "source": [
    "# Напишем функцию увеличения выборки\n",
    "def downsample(data, target, fraction):\n",
    "    zeros = data.loc[data[target] == 0]\n",
    "    ones = data.loc[data[target] == 1]  \n",
    "    downsampled = pd.concat([zeros.sample(frac=fraction, random_state=12345)] + [ones])\n",
    "    return downsampled\n",
    "    \n",
    "# Применение функции\n",
    "data_train_down = downsample(data_train, 'Exited', 0.25)\n",
    "\n",
    "# Вывод информации\n",
    "print('Новый размер обучающей выборки:', data_train_down.shape[0])\n",
    "print('Количество ушедших клиентов в увеличенной выборке:', (data_train_down['Exited'] == 1).sum())\n",
    "print('Процент ушедших клиентов в увеличенной выборке: {:.2%}' \n",
    "      .format((data_train_down['Exited'] == 1).sum() / data_train_down.shape[0]))\n",
    "print('')\n",
    "\n",
    "# Проверка даунсемпла на моделях\n",
    "print('Качество модели логистической регрессии')\n",
    "model1_def (data_train_down, data_valid, 'Exited', model1)\n",
    "print('--------------------------------------------------')\n",
    "\n",
    "print('Качество модели случайного леса')\n",
    "model2_def (data_train_down, data_valid, 'Exited', 'metrics')\n",
    "print('--------------------------------------------------')\n",
    "\n",
    "print('Качество Catboost')\n",
    "model3_def (data_train_down, data_valid, 'Exited', model3, 'metrics')\n",
    "print('--------------------------------------------------')"
   ]
  },
  {
   "cell_type": "markdown",
   "metadata": {},
   "source": [
    "**Итоги по третьему пункту:**\n",
    "\n",
    "Наилучший эффект дал метод апсемпла - качество (F1-мера и ROC-AUC) улучшилось на всех трёх моделях. У даунсемпла тоже получилось неплохо, но не так хорошо как с апсемплом. А вот изменение гиперпараметров, влияющих на баланс классов, показало себя слабо - качество либо снижалось, либо увеличивалось недостаточно сильно."
   ]
  },
  {
   "cell_type": "markdown",
   "metadata": {},
   "source": [
    "# 4. Тестирование модели <a id=\"test\"></a>\n",
    "\n",
    "Теперь можно проверить на тестовой выборке лучшие модели - случайный лес и catboost, обученных на сбалансированных методом upsample данных.\n",
    "\n",
    "Модель случайного леса мы зададим вручную, так как его оптимальные гиперпараметры нам известны - количество деревьев: 10, лучшая глубина дерева: 6. Нужно будет только повторно обучить его на полных данных, предобработанных при помощи upsample.\n",
    "\n",
    "Оппонента случайного леса будем обучать по-прежнему только на певоначальной обучающей выборке, так catboost сможет ориентироваться на результаты валидационной выборки и не переобучиться - это полезнее, чем получить больший объем обучающей выборки."
   ]
  },
  {
   "cell_type": "code",
   "execution_count": 18,
   "metadata": {},
   "outputs": [
    {
     "name": "stdout",
     "output_type": "stream",
     "text": [
      "Модель случайного леса\n",
      "F1-мера при проверке на тестовой выборке: 0.596\n",
      "----------------------------------------------------------------------------------------\n",
      "Модель Catboost\n",
      "F1-мера при проверке на тестовой выборке: 0.591\n"
     ]
    }
   ],
   "source": [
    "# Определим целевой и остальные признаки для тестовой выборки...\n",
    "features_test = data_test.drop(['Exited'], axis=1)\n",
    "target_test = data_test['Exited']\n",
    "\n",
    "# ...и для новой обучающей выборки (включающей обучающую и валидационную выборки)\n",
    "features_total = data.drop(['Exited'], axis=1)\n",
    "target_total = data['Exited']\n",
    "\n",
    "# Сделаем апсемпл для полных данных\n",
    "data_up = upsample(data, 'Exited', 4)\n",
    "features_total_up = data_up.drop(['Exited'], axis=1)\n",
    "target_total_up = data_up['Exited']\n",
    "\n",
    "# Извлечём и повторно обучим лучшую модель случайного леса\n",
    "best_model_2 = RandomForestClassifier(random_state=12345, n_estimators=10, max_depth=6)\n",
    "best_model_2.fit(features_total_up, target_total_up) \n",
    "\n",
    "# Извлечём уже обученную лучшую модель catboost\n",
    "best_model_3 = model3_def (data_train_up, data_valid, 'Exited', model3, 'model')\n",
    "\n",
    "# Выведем результат\n",
    "print('Модель случайного леса')\n",
    "predictions_model2 = best_model_2.predict(features_test)\n",
    "print('F1-мера при проверке на тестовой выборке: {:.3f}' .format(f1_score(target_test, predictions_model2)))\n",
    "print('----------------------------------------------------------------------------------------')\n",
    "print('Модель Catboost')\n",
    "predictions_model3 = best_model_3.predict(features_test)\n",
    "print('F1-мера при проверке на тестовой выборке: {:.3f}' .format(f1_score(target_test, predictions_model3)))"
   ]
  },
  {
   "cell_type": "markdown",
   "metadata": {},
   "source": [
    "Обе модели успешно прошли проверку тестовой выборкой! Да, метрика F1 получилась, что называется - \"на грани\", но одна из поставленных в проекте целей - добиться нужно результата при помощи, прежде всего - балансировки классов. Если подобрать правильные гиперпараметры, результат будет лучше.\n",
    "\n",
    "Посмотрим на ещё одну метрику и график, которые дадут нам понимание о качестве модели."
   ]
  },
  {
   "cell_type": "markdown",
   "metadata": {},
   "source": [
    "#### ROC-curve (и метрика AUC-ROC) <a id=\"auc-roc\"></a>\n",
    "\n",
    "Чтобы выявить, как сильно наша модель отличается от случайной, построим кривую ROC и посчитаем площадь под ней — получим метрику ROC-AUC.\n",
    "\n",
    "Не смотря на формальное поражение catboost'а в битве моделей, мы будем рассматривать метрику именно для него. Итоговая разница в качестве моделей составляет всего несколько тысячных, а построение ROC-кривой при помощи функции get_roc_curve из модуля utils библиотеки catboost - вариант более удобный. (Да и улучшать качество catboost, при необходимости, проще и быстрее)"
   ]
  },
  {
   "cell_type": "code",
   "execution_count": 16,
   "metadata": {},
   "outputs": [
    {
     "data": {
      "image/png": "[encoded data removed]",
      "text/plain": [
       "<Figure size 360x360 with 1 Axes>"
      ]
     },
     "metadata": {
      "needs_background": "light"
     },
     "output_type": "display_data"
    }
   ],
   "source": [
    "# Создание пула с тестовыми фичами и таргетом\n",
    "test_pool = Pool(features_test, target_test)\n",
    "\n",
    "# Собираем значения \n",
    "fpr, tpr, _ = get_roc_curve(best_model_3, test_pool)\n",
    "roc_auc = auc(fpr, tpr)\n",
    "\n",
    "# Построение графика\n",
    "plt.figure(figsize = (5,5))\n",
    "plt.title('Кривая ROC')\n",
    "plt.plot(fpr, tpr, 'b', label = 'AUC = %0.2f' % roc_auc)\n",
    "plt.legend(loc = 'lower right')\n",
    "plt.plot([0, 1], [0, 1],'r--')\n",
    "plt.xlim([0, 1])\n",
    "plt.ylim([0, 1])\n",
    "plt.ylabel('True Positive Rate')\n",
    "plt.xlabel('False Positive Rate')\n",
    "plt.show()"
   ]
  },
  {
   "cell_type": "markdown",
   "metadata": {},
   "source": [
    "Значения True Positive Rate и False Positive Rate для модели catboost находятся достаточно далеко от линии случайной модели. Исходя из этого можно сделать однозначный вывод - использование модели эффективнее случайного предсказания результатов.\n",
    "\n",
    "Метрика AUC имеет относительно высокое значение, при относительно низком значении F1-меры. Это говорит о не самой успешной работе классификатора в данной конкретной точке (для определенных предсказаний), при этом есть возможность найти порог, для которого результат будет лучше."
   ]
  },
  {
   "cell_type": "markdown",
   "metadata": {},
   "source": [
    "### Итоговый вывод <a id=\"summary\"></a>\n",
    "\n",
    "Лучшими моделями для предсказания намерения клиентов расторгнуть договор с банком стали - случайный лес и catboost. На протяжении всего исследования они показывали примерно равные результаты, и по итогу обе успешно прошли проверку на тестовой выборке, преодолев необходимое значение F1-меры (0.59). \n",
    "\n",
    "Различные методы балансировки классов позволили несколько улучшить качество моделей, но не очень значительно (буквально на несколько сотых значения F1-меры). Вполне возможно, что улучшить результаты поможет подбор других гиперпараметров. Этот факт отчасти подтверждает метрика ROC-AUC, которая находится на относительно высоком уровне (0.84 для catboost).\n",
    "\n",
    "Если выбирать одну конкретную модель для использования - то более интересным вариантом будет catboost. В сравнении с моделью случайного леса, catboost предоставляет возможности для более гибкой настройки, работает ощутимо быстрее, и при этом качество выбранной метрики либо не отличается, либо отличается незначительно."
   ]
  },
  {
   "cell_type": "code",
   "execution_count": null,
   "metadata": {},
   "outputs": [],
   "source": []
  }
 ],
 "metadata": {
  "kernelspec": {
   "display_name": "Python 3",
   "language": "python",
   "name": "python3"
  },
  "language_info": {
   "codemirror_mode": {
    "name": "ipython",
    "version": 3
   },
   "file_extension": ".py",
   "mimetype": "text/x-python",
   "name": "python",
   "nbconvert_exporter": "python",
   "pygments_lexer": "ipython3",
   "version": "3.8.5"
  },
  "toc": {
   "base_numbering": 1,
   "nav_menu": {},
   "number_sections": false,
   "sideBar": true,
   "skip_h1_title": false,
   "title_cell": "Table of Contents",
   "title_sidebar": "Contents",
   "toc_cell": false,
   "toc_position": {},
   "toc_section_display": true,
   "toc_window_display": false
  }
 },
 "nbformat": 4,
 "nbformat_minor": 2
}
